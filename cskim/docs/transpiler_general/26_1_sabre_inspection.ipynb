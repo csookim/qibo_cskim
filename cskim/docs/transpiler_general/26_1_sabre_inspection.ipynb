{
 "cells": [
  {
   "cell_type": "code",
   "execution_count": 1,
   "metadata": {},
   "outputs": [],
   "source": [
    "from qibo.cskim_utils.gen_circuit import qibo_to_qiskit_cz, random_control_circuit_qibo\n",
    "from qibo.cskim_utils.connectivity import *\n",
    "from qibo.cskim_utils.qiskit_sabre import SabreSwap_old\n",
    "from qibo.transpiler.optimizer import Preprocessing\n",
    "from qibo.transpiler.pipeline import Passes\n",
    "from qibo.transpiler.placer import Trivial\n",
    "from qibo.transpiler.router import Sabre\n",
    "from qiskit.transpiler import CouplingMap, Layout, PassManager\n",
    "from qiskit.transpiler.passes import SetLayout, ApplyLayout\n",
    "from qiskit.transpiler.passes import SabreSwap\n",
    "from time import time\n",
    "import numpy as np\n",
    "import matplotlib.pyplot as plt\n",
    "from qibo.cskim_utils.circuit_info import count_swaps_qibo, count_swaps_qiskit\n"
   ]
  },
  {
   "cell_type": "code",
   "execution_count": 5,
   "metadata": {},
   "outputs": [],
   "source": [
    "nqubits, ngates = 20, 50\n",
    "\n",
    "conn = cycle_connectivity_nx(nqubits)\n",
    "cmap = cycle_connectivity_cmap(nqubits)\n",
    "\n",
    "cz_circuit_qibo = random_control_circuit_qibo(nqubits, ngates)\n",
    "cz_circuit_qiskit = qibo_to_qiskit_cz(cz_circuit_qibo)\n",
    "\n",
    "router_sabre = Sabre(connectivity=conn, swap_threshold=1.5)\n",
    "placer_trivial = Trivial(connectivity=conn)\n",
    "pipeline_qibo_sabre = Passes([placer_trivial, router_sabre], connectivity=conn)\n",
    "coup = CouplingMap(couplinglist=cmap)\n",
    "q = cz_circuit_qiskit.qubits\n",
    "\n",
    "pass_qiskit_sabre_old = PassManager()\n",
    "pass_qiskit_sabre_old.append(SetLayout(Layout({q[i]: i for i in range(nqubits)})))\n",
    "pass_qiskit_sabre_old.append(ApplyLayout())\n",
    "qiskit_router_sabre = SabreSwap_old(coup, \"decay\")\n",
    "pass_qiskit_sabre_old.append(qiskit_router_sabre)"
   ]
  },
  {
   "cell_type": "code",
   "execution_count": 6,
   "metadata": {},
   "outputs": [
    {
     "name": "stdout",
     "output_type": "stream",
     "text": [
      "Time of preprocessing: 0.0038652420043945312\n",
      "reset\n",
      "reset\n",
      "reset\n",
      "reset\n",
      "reset\n",
      "reset\n",
      "reset\n",
      "reset\n",
      "reset\n",
      "reset\n",
      "reset\n",
      "reset\n",
      "reset\n",
      "reset\n",
      "loop time: [0.2019033432006836, 0.18752741813659668, 0.004248142242431641]\n",
      "check_execute time: 0.0008380413055419922 0.0015420913696289062 0.00025177001953125 0.19911694526672363\n",
      "0.5182480812072754\n",
      "Time preprocessing:  0.00033473968505859375\n",
      "Loop time:  [0.0007662773132324219, 0.03254365921020508, 0.00029754638671875]\n",
      "0.03590679168701172\n"
     ]
    }
   ],
   "source": [
    "qibo_sabre_start = time()\n",
    "transpiled_qibo_sabre, _ = pipeline_qibo_sabre(cz_circuit_qibo)\n",
    "qibo_sabre_end = time()\n",
    "swap_count_qibo_sabre = count_swaps_qibo(transpiled_qibo_sabre)\n",
    "print(qibo_sabre_end - qibo_sabre_start)\n",
    "\n",
    "qiskit_sabre_old_start = time()\n",
    "transpiled_qiskit_sabre_old = pass_qiskit_sabre_old.run(cz_circuit_qiskit)\n",
    "qiskit_sabre_old_end = time()\n",
    "swap_count_qiskit_sabre_old = count_swaps_qiskit(transpiled_qiskit_sabre_old)\n",
    "print(qiskit_sabre_old_end - qiskit_sabre_old_start)"
   ]
  }
 ],
 "metadata": {
  "kernelspec": {
   "display_name": "qibo-Dt6LWWKd-py3.12",
   "language": "python",
   "name": "python3"
  },
  "language_info": {
   "codemirror_mode": {
    "name": "ipython",
    "version": 3
   },
   "file_extension": ".py",
   "mimetype": "text/x-python",
   "name": "python",
   "nbconvert_exporter": "python",
   "pygments_lexer": "ipython3",
   "version": "3.12.4"
  }
 },
 "nbformat": 4,
 "nbformat_minor": 2
}
