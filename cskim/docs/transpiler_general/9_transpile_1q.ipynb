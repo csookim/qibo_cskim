{
 "cells": [
  {
   "cell_type": "markdown",
   "metadata": {},
   "source": [
    "# Transpilation of a 1-qubit circuit\n",
    " - Only the Unroller pass is used\n",
    " - Several decomposition algorithms are included in the Unroller pass"
   ]
  },
  {
   "cell_type": "code",
   "execution_count": 4,
   "metadata": {},
   "outputs": [],
   "source": [
    "from qibo import gates\n",
    "from qibo.models.circuit import Circuit\n",
    "import numpy as np\n",
    "from qibo.transpiler.pipeline import Passes\n",
    "from qibo.transpiler.unroller import NativeGates, Unroller"
   ]
  },
  {
   "cell_type": "code",
   "execution_count": 6,
   "metadata": {},
   "outputs": [
    {
     "name": "stdout",
     "output_type": "stream",
     "text": [
      "Before transpilation:\n",
      "q0: ─U3─\n",
      "After transpilation:\n",
      "q0: ─RZ─GPI2─RZ─GPI2─RZ─\n"
     ]
    },
    {
     "data": {
      "text/plain": [
       "array([-0.33141357+0.80010315j, -0.46193977-0.19134172j])"
      ]
     },
     "execution_count": 6,
     "metadata": {},
     "output_type": "execute_result"
    }
   ],
   "source": [
    "# Add 1-qubit gates to the circuit\n",
    "circuit = Circuit(1)\n",
    "circuit.add(gates.U3(0, np.pi/3, np.pi/2, np.pi/4))\n",
    "\n",
    "# Specify the native gates to be used in the unroller\n",
    "ng = NativeGates.default()\n",
    "\n",
    "# Create a custom pipeline\n",
    "# Only the Unroller pass is used in 1-qubit circuits\n",
    "custom_pipeline = Passes([Unroller(native_gates=ng)])\n",
    "\n",
    "# Transpile the circuit\n",
    "transpiled_circuit, _ = custom_pipeline(circuit)\n",
    "\n",
    "# Print the transpiled circuit\n",
    "print(\"Before transpilation:\")\n",
    "print(circuit.draw())\n",
    "print(\"After transpilation:\")\n",
    "print(transpiled_circuit.draw())\n",
    "\n",
    "# Run the transpiled circuit and get the results\n",
    "results = transpiled_circuit(nshots=100)\n",
    "\n",
    "# Statevector of the transpiled circuit\n",
    "results.state()"
   ]
  }
 ],
 "metadata": {
  "kernelspec": {
   "display_name": "qibo-dfaCR4-c-py3.12",
   "language": "python",
   "name": "python3"
  },
  "language_info": {
   "codemirror_mode": {
    "name": "ipython",
    "version": 3
   },
   "file_extension": ".py",
   "mimetype": "text/x-python",
   "name": "python",
   "nbconvert_exporter": "python",
   "pygments_lexer": "ipython3",
   "version": "3.12.4"
  }
 },
 "nbformat": 4,
 "nbformat_minor": 2
}
