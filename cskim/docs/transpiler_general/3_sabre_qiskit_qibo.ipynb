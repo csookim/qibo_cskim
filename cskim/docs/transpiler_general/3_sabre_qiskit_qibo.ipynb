{
 "cells": [
  {
   "cell_type": "markdown",
   "metadata": {},
   "source": [
    "# Comparison of Qiskit SABRE vs Qibo SABRE\n",
    "\n",
    "- 10-qubit QFT\n",
    "- line graph vs cycle graph\n",
    "- the number of CNOTs\n",
    "- Qibo vs Qiskit"
   ]
  },
  {
   "cell_type": "markdown",
   "metadata": {},
   "source": [
    "### Utils"
   ]
  },
  {
   "cell_type": "markdown",
   "metadata": {},
   "source": [
    "#### `qibo.cskim_utils.connectivity.line_connectivity_`\n",
    "\n",
    "```py\n",
    "def line_connectivity_nx(n):\n",
    "    \"\"\"\n",
    "    Returns a line graph with n nodes and n-1 edges.\n",
    "    Return nx.Graph.\n",
    "    For Qibo.\n",
    "    \"\"\"\n",
    "\n",
    "\n",
    "def line_connectivity_cmap(n):\n",
    "    \"\"\"\n",
    "    Returns a line graph with n nodes and n-1 edges.\n",
    "    Return list of lists (Coupling map).\n",
    "    For Qiskit.\n",
    "    \"\"\"\n",
    "\n",
    "```"
   ]
  },
  {
   "cell_type": "markdown",
   "metadata": {},
   "source": [
    "#### `qibo.cskim_utils.connectivity.cycle_connectivity_`\n",
    "\n",
    "\n",
    "```py\n",
    "def cycle_connectivity_nx(n):\n",
    "    \"\"\"\n",
    "    Returns a cycle graph with n nodes and n edges.\n",
    "    Return nx.Graph.\n",
    "    For Qibo.\n",
    "    \"\"\"\n",
    "\n",
    "def cycle_connectivity_cmap(n):\n",
    "    \"\"\"\n",
    "    Returns a cycle graph with n nodes and n edges.\n",
    "    Return list of lists (Coupling map).\n",
    "    For Qiskit.\n",
    "    \"\"\"\n",
    "```"
   ]
  },
  {
   "cell_type": "markdown",
   "metadata": {},
   "source": [
    "#### `qibo.cskim_utils.gen_circuit.qiskit_qft`\n",
    "\n",
    "```py\n",
    "def qiskit_qft(n):\n",
    "    \"\"\"\n",
    "    Returns a Qiskit QuantumCircuit object for the QFT on n qubits.\n",
    "    \"\"\"\n",
    "```\n"
   ]
  },
  {
   "cell_type": "markdown",
   "metadata": {},
   "source": [
    "#### `qibo.cskim_utils.circuit_info.count_czs_qiskit`\n",
    "\n",
    "```py\n",
    "def count_czs_qiskit(circuit):\n",
    "    \"\"\"\n",
    "    Count the number of CZ gates in a Qiskit circuit.\n",
    "    \"\"\"\n",
    "    ```"
   ]
  },
  {
   "cell_type": "markdown",
   "metadata": {},
   "source": [
    "#### `qibo.cskim_utils.gen_circuit.gen_transpiled_circuits_qibo`\n",
    "\n",
    "```py\n",
    "def gen_transpiled_circuits_qibo(circuit, conn, placer, router):\n",
    "    \"\"\"\n",
    "    Transpile a Qibo circuit using the given connectivity, placer, and router.\n",
    "    Optimiser and unroller are set to default.\n",
    "    \"\"\"\n",
    "```"
   ]
  },
  {
   "cell_type": "markdown",
   "metadata": {},
   "source": [
    "## Qibo Transpilation\n",
    "\n",
    "- QFT(3)"
   ]
  },
  {
   "cell_type": "code",
   "execution_count": 42,
   "metadata": {},
   "outputs": [],
   "source": [
    "from qibo.models import QFT\n",
    "from qibo.cskim_utils.connectivity import line_connectivity_nx\n",
    "from qibo.transpiler.placer import ReverseTraversal\n",
    "from qibo.transpiler.router import Sabre\n",
    "\n",
    "from qibo.cskim_utils.gen_circuit import gen_transpiled_circuits_qibo\n",
    "from qibo.cskim_utils.circuit_info import count_czs_qibo\n",
    "from qibo.cskim_utils.connectivity import cycle_connectivity_nx\n",
    "\n"
   ]
  },
  {
   "cell_type": "code",
   "execution_count": 9,
   "metadata": {},
   "outputs": [],
   "source": [
    "nqubits = 3"
   ]
  },
  {
   "cell_type": "code",
   "execution_count": 10,
   "metadata": {},
   "outputs": [
    {
     "name": "stdout",
     "output_type": "stream",
     "text": [
      "q0: ─H─U1─U1────────x─\n",
      "q1: ───o──|──H─U1───|─\n",
      "q2: ──────o────o──H─x─\n"
     ]
    }
   ],
   "source": [
    "# qibo.models.QFT\n",
    "qft_circ_qibo = QFT(nqubits)\n",
    "\n",
    "print(qft_circ_qibo.draw(line_wrap=1000))"
   ]
  },
  {
   "cell_type": "code",
   "execution_count": 17,
   "metadata": {},
   "outputs": [
    {
     "name": "stdout",
     "output_type": "stream",
     "text": [
      "q0: ─Z──GPI2─Z─GPI2─Z─Z─GPI2─RZ─GPI2─Z─Z─GPI2─RZ─────────────────────Z──GPI2─Z─Z─GPI2─RZ─GPI2─Z─Z──GPI2─RZ───────────────────────────────────o─Z─GPI2─Z─Z─GPI2─o────────\n",
      "q1: ─RZ─────────────o────────────────o─Z─GPI2────o─Z─GPI2─Z─Z─GPI2─o─RZ──────o────────────────o─RZ─────────o────────────────o─Z─GPI2─Z──GPI2─Z─Z─GPI2─o─Z─GPI2─Z─Z─GPI2─\n",
      "q2: ───────────────────────────────────Z─GPI2────Z─Z─GPI2─o─Z─GPI2─Z─Z──GPI2────────────────────Z──GPI2────Z─Z─GPI2─RZ─GPI2─Z─Z─GPI2─RZ─────────────────────────────────\n",
      "#czs after_transpiling 12\n"
     ]
    }
   ],
   "source": [
    "# Line connectivity\n",
    "conn = line_connectivity_nx(nqubits)\n",
    "\n",
    "# Placer and Router\n",
    "router_sabre = Sabre(connectivity=conn)\n",
    "placer = ReverseTraversal(connectivity=conn, routing_algorithm=router_sabre)\n",
    "# placer = Random(connectivity=conn)\n",
    "# placer = Subgraph(connectivity=conn)\n",
    "# placer = Trivial(connectivity=conn)\n",
    "\n",
    "# Transpile\n",
    "transpiled_circ = gen_transpiled_circuits_qibo(qft_circ_qibo, conn, placer, router_sabre)\n",
    "print(transpiled_circ.draw(line_wrap=1000))\n",
    "print(\"#czs after_transpiling\", count_czs_qibo(transpiled_circ))"
   ]
  },
  {
   "cell_type": "markdown",
   "metadata": {},
   "source": [
    "## Qiskit Transpilation\n",
    "\n",
    "- QFT(3)"
   ]
  },
  {
   "cell_type": "code",
   "execution_count": 41,
   "metadata": {},
   "outputs": [],
   "source": [
    "from qiskit import transpile\n",
    "\n",
    "from qibo.cskim_utils.circuit_info import count_czs_qiskit\n",
    "from qibo.cskim_utils.connectivity import line_connectivity_cmap\n",
    "from qibo.cskim_utils.gen_circuit import qiskit_qft\n",
    "from qibo.cskim_utils.connectivity import cycle_connectivity_cmap"
   ]
  },
  {
   "cell_type": "code",
   "execution_count": 18,
   "metadata": {},
   "outputs": [
    {
     "data": {
      "text/html": [
       "<pre style=\"word-wrap: normal;white-space: pre;background: #fff0;line-height: 1.1;font-family: &quot;Courier New&quot;,Courier,monospace\">     ┌───┐                                        \n",
       "q_0: ┤ H ├─■────────■───────────────────────────X─\n",
       "     └───┘ │        │P(π/2) ┌───┐               │ \n",
       "q_1: ──────┼────────■───────┤ H ├─■─────────────┼─\n",
       "           │P(π/4)          └───┘ │P(π/2) ┌───┐ │ \n",
       "q_2: ──────■──────────────────────■───────┤ H ├─X─\n",
       "                                          └───┘   </pre>"
      ],
      "text/plain": [
       "     ┌───┐                                        \n",
       "q_0: ┤ H ├─■────────■───────────────────────────X─\n",
       "     └───┘ │        │P(π/2) ┌───┐               │ \n",
       "q_1: ──────┼────────■───────┤ H ├─■─────────────┼─\n",
       "           │P(π/4)          └───┘ │P(π/2) ┌───┐ │ \n",
       "q_2: ──────■──────────────────────■───────┤ H ├─X─\n",
       "                                          └───┘   "
      ]
     },
     "metadata": {},
     "output_type": "display_data"
    }
   ],
   "source": [
    "# Qiskit QFT circuit\n",
    "qft_circ_qiskit = qiskit_qft(nqubits)\n",
    "display(qft_circ_qiskit.draw(fold=-1))"
   ]
  },
  {
   "cell_type": "code",
   "execution_count": 19,
   "metadata": {},
   "outputs": [
    {
     "data": {
      "text/html": [
       "<pre style=\"word-wrap: normal;white-space: pre;background: #fff0;line-height: 1.1;font-family: &quot;Courier New&quot;,Courier,monospace\">global phase: 3π/4\n",
       "         ┌──────────────────────┐   ┌──────────────────┐   ┌──────────────────┐                                                 ┌──────────────────┐    ┌────────────────┐                      \n",
       "q_0 -> 0 ┤ U3(0,1.4066,-1.4066) ├─■─┤ U3(π/8,π/2,-π/2) ├─■─┤ U3(π/8,-π/2,π/2) ├───────────────────────────────────────────────■─┤ U3(π/4,π/2,-π/2) ├─■──┤ U3(π/2,π/4,-π) ├──────────────────────\n",
       "         └───┬─────────────┬────┘ │ └──────────────────┘ │ ├──────────────────┤   ┌──────────────────┐   ┌──────────────────┐ │ └──────────────────┘ │ ┌┴────────────────┴┐   ┌────────────────┐\n",
       "q_2 -> 1 ────┤ U3(0,0,π/8) ├──────■──────────────────────■─┤ U3(π/2,-π/2,π/2) ├─■─┤ U3(π/2,-π/2,π/2) ├─■─┤ U3(π/2,-π/4,π/2) ├─■──────────────────────■─┤ U3(π/4,π/2,-π/2) ├─■─┤ U3(π/2,π/4,-π) ├\n",
       "           ┌─┴─────────────┴──┐                            └──────────────────┘ │ ├──────────────────┤ │ ├──────────────────┤                          └──────────────────┘ │ └┬─────────────┬─┘\n",
       "q_1 -> 2 ──┤ U3(π/2,-π/2,π/2) ├─────────────────────────────────────────────────■─┤ U3(π/2,-π/2,π/2) ├─■─┤ U3(π/2,-π/4,π/2) ├───────────────────────────────────────────────■──┤ U3(π/2,0,π) ├──\n",
       "           └──────────────────┘                                                   └──────────────────┘   └──────────────────┘                                                  └─────────────┘  </pre>"
      ],
      "text/plain": [
       "global phase: 3π/4\n",
       "         ┌──────────────────────┐   ┌──────────────────┐   ┌──────────────────┐                                                 ┌──────────────────┐    ┌────────────────┐                      \n",
       "q_0 -> 0 ┤ U3(0,1.4066,-1.4066) ├─■─┤ U3(π/8,π/2,-π/2) ├─■─┤ U3(π/8,-π/2,π/2) ├───────────────────────────────────────────────■─┤ U3(π/4,π/2,-π/2) ├─■──┤ U3(π/2,π/4,-π) ├──────────────────────\n",
       "         └───┬─────────────┬────┘ │ └──────────────────┘ │ ├──────────────────┤   ┌──────────────────┐   ┌──────────────────┐ │ └──────────────────┘ │ ┌┴────────────────┴┐   ┌────────────────┐\n",
       "q_2 -> 1 ────┤ U3(0,0,π/8) ├──────■──────────────────────■─┤ U3(π/2,-π/2,π/2) ├─■─┤ U3(π/2,-π/2,π/2) ├─■─┤ U3(π/2,-π/4,π/2) ├─■──────────────────────■─┤ U3(π/4,π/2,-π/2) ├─■─┤ U3(π/2,π/4,-π) ├\n",
       "           ┌─┴─────────────┴──┐                            └──────────────────┘ │ ├──────────────────┤ │ ├──────────────────┤                          └──────────────────┘ │ └┬─────────────┬─┘\n",
       "q_1 -> 2 ──┤ U3(π/2,-π/2,π/2) ├─────────────────────────────────────────────────■─┤ U3(π/2,-π/2,π/2) ├─■─┤ U3(π/2,-π/4,π/2) ├───────────────────────────────────────────────■──┤ U3(π/2,0,π) ├──\n",
       "           └──────────────────┘                                                   └──────────────────┘   └──────────────────┘                                                  └─────────────┘  "
      ]
     },
     "metadata": {},
     "output_type": "display_data"
    },
    {
     "name": "stdout",
     "output_type": "stream",
     "text": [
      "#czs after_transpiling 7\n"
     ]
    }
   ],
   "source": [
    "# Line coupling map\n",
    "cmap = line_connectivity_cmap(nqubits)\n",
    "\n",
    "qc_basis = transpile(qft_circ_qiskit, coupling_map=cmap, basis_gates=['cz', 'u3'], optimization_level=3)\n",
    "display(qc_basis.draw(fold=-1))\n",
    "\n",
    "print(\"#czs after_transpiling\", count_czs_qiskit(qc_basis))"
   ]
  },
  {
   "cell_type": "markdown",
   "metadata": {},
   "source": [
    "## Comparison 1\n",
    "\n",
    "- line connectivity\n",
    "- QFT(10)\n",
    "- `repeat`: 50"
   ]
  },
  {
   "cell_type": "code",
   "execution_count": 34,
   "metadata": {},
   "outputs": [
    {
     "name": "stdout",
     "output_type": "stream",
     "text": [
      "Avg #CZs, line connectivity, Qibo: 280.92\n",
      "Avg #CZs, line connectivity, Qiskit: 280.1\n",
      "\n",
      "Min #CZs, line connectivity, Qibo: 276\n",
      "Min #CZs, line connectivity, Qiskit: 270\n"
     ]
    }
   ],
   "source": [
    "ncz_qibo_line = []\n",
    "ncz_qiskit_line = []\n",
    "repeat = 50\n",
    "\n",
    "# Qibo QFT circuit\n",
    "nqubits = 10\n",
    "qft_circ_qibo = QFT(nqubits)\n",
    "\n",
    "# Line connectivity\n",
    "conn = line_connectivity_nx(nqubits)\n",
    "cmap = line_connectivity_cmap(nqubits)\n",
    "\n",
    "# Qibo Placer and Router\n",
    "router_sabre = Sabre(connectivity=conn)\n",
    "placer = ReverseTraversal(connectivity=conn, routing_algorithm=router_sabre)\n",
    "\n",
    "# Qiskit QFT circuit\n",
    "qft_circ_qiskit = qiskit_qft(nqubits)\n",
    "\n",
    "for i in range(repeat):\n",
    "    # Qibo Transpilation\n",
    "    transpiled_circ = gen_transpiled_circuits_qibo(qft_circ_qibo, conn, placer, router_sabre)\n",
    "    czs_qb = count_czs_qibo(transpiled_circ)\n",
    "    ncz_qibo_line.append(czs_qb)\n",
    "\n",
    "    # Qiskit Transpilation\n",
    "    qc_basis = transpile(qft_circ_qiskit, coupling_map=cmap, basis_gates=['cz', 'u3'], optimization_level=3)\n",
    "    czs_qsk = count_czs_qiskit(qc_basis)\n",
    "    ncz_qiskit_line.append(czs_qsk)\n",
    "\n",
    "print(\"Avg #CZs, line connectivity, Qibo:\", sum(ncz_qibo_line)/repeat)\n",
    "print(\"Avg #CZs, line connectivity, Qiskit:\", sum(ncz_qiskit_line)/repeat)\n",
    "print()\n",
    "print(\"Min #CZs, line connectivity, Qibo:\", min(ncz_qibo_line))\n",
    "print(\"Min #CZs, line connectivity, Qiskit:\", min(ncz_qiskit_line))"
   ]
  },
  {
   "cell_type": "code",
   "execution_count": 38,
   "metadata": {},
   "outputs": [
    {
     "data": {
      "image/png": "[encoded data removed]",
      "text/plain": [
       "<Figure size 640x480 with 1 Axes>"
      ]
     },
     "metadata": {},
     "output_type": "display_data"
    }
   ],
   "source": [
    "import matplotlib.pyplot as plt\n",
    "\n",
    "plt.hist(ncz_qibo_line, bins=30, color='g', label='Qibo')\n",
    "plt.hist(ncz_qiskit_line, bins=30, color='b', label='Qiskit')\n",
    "plt.axvline(sum(ncz_qibo_line)/repeat, color='g', linestyle='dashed', linewidth=2)\n",
    "plt.axvline(sum(ncz_qiskit_line)/repeat, color='b', linestyle='dashed', linewidth=2)\n",
    "plt.legend()\n",
    "plt.xlabel(\"Number of CZs\")\n",
    "plt.ylabel(\"Frequency\")\n",
    "plt.title(\"Line graph, #CZs after transpilation\")\n",
    "plt.show()"
   ]
  },
  {
   "cell_type": "markdown",
   "metadata": {},
   "source": [
    "## Comparison 2\n",
    "\n",
    "- cycle connectivity\n",
    "- QFT(10)\n",
    "- `repeat`: 50"
   ]
  },
  {
   "cell_type": "code",
   "execution_count": 43,
   "metadata": {},
   "outputs": [
    {
     "name": "stdout",
     "output_type": "stream",
     "text": [
      "Avg #CZs, line connectivity, Qibo: 247.98\n",
      "Avg #CZs, line connectivity, Qiskit: 244.42\n",
      "\n",
      "Min #CZs, line connectivity, Qibo: 240\n",
      "Min #CZs, line connectivity, Qiskit: 225\n"
     ]
    }
   ],
   "source": [
    "ncz_qibo_line = []\n",
    "ncz_qiskit_line = []\n",
    "repeat = 50\n",
    "\n",
    "# Qibo QFT circuit\n",
    "nqubits = 10\n",
    "qft_circ_qibo = QFT(nqubits)\n",
    "\n",
    "# Line connectivity\n",
    "conn = cycle_connectivity_nx(nqubits)\n",
    "cmap = cycle_connectivity_cmap(nqubits)\n",
    "\n",
    "# Qibo Placer and Router\n",
    "router_sabre = Sabre(connectivity=conn)\n",
    "placer = ReverseTraversal(connectivity=conn, routing_algorithm=router_sabre)\n",
    "\n",
    "# Qiskit QFT circuit\n",
    "qft_circ_qiskit = qiskit_qft(nqubits)\n",
    "\n",
    "for i in range(repeat):\n",
    "    # Qibo Transpilation\n",
    "    transpiled_circ = gen_transpiled_circuits_qibo(qft_circ_qibo, conn, placer, router_sabre)\n",
    "    czs_qb = count_czs_qibo(transpiled_circ)\n",
    "    ncz_qibo_line.append(czs_qb)\n",
    "\n",
    "    # Qiskit Transpilation\n",
    "    qc_basis = transpile(qft_circ_qiskit, coupling_map=cmap, basis_gates=['cz', 'u3'], optimization_level=3)\n",
    "    czs_qsk = count_czs_qiskit(qc_basis)\n",
    "    ncz_qiskit_line.append(czs_qsk)\n",
    "\n",
    "print(\"Avg #CZs, line connectivity, Qibo:\", sum(ncz_qibo_line)/repeat)\n",
    "print(\"Avg #CZs, line connectivity, Qiskit:\", sum(ncz_qiskit_line)/repeat)\n",
    "print()\n",
    "print(\"Min #CZs, line connectivity, Qibo:\", min(ncz_qibo_line))\n",
    "print(\"Min #CZs, line connectivity, Qiskit:\", min(ncz_qiskit_line))"
   ]
  },
  {
   "cell_type": "code",
   "execution_count": 45,
   "metadata": {},
   "outputs": [
    {
     "data": {
      "image/png": "[encoded data removed]",
      "text/plain": [
       "<Figure size 640x480 with 1 Axes>"
      ]
     },
     "metadata": {},
     "output_type": "display_data"
    }
   ],
   "source": [
    "import matplotlib.pyplot as plt\n",
    "\n",
    "plt.hist(ncz_qibo_line, bins=30, color='g', label='Qibo')\n",
    "plt.hist(ncz_qiskit_line, bins=30, color='b', label='Qiskit')\n",
    "plt.axvline(sum(ncz_qibo_line)/repeat, color='g', linestyle='dashed', linewidth=2)\n",
    "plt.axvline(sum(ncz_qiskit_line)/repeat, color='b', linestyle='dashed', linewidth=2)\n",
    "plt.legend()\n",
    "plt.xlabel(\"Number of CZs\")\n",
    "plt.ylabel(\"Frequency\")\n",
    "plt.title(\"Cycle graph, #CZs after transpilation\")\n",
    "plt.show()"
   ]
  }
 ],
 "metadata": {
  "kernelspec": {
   "display_name": "qibo-dfaCR4-c-py3.12",
   "language": "python",
   "name": "python3"
  },
  "language_info": {
   "codemirror_mode": {
    "name": "ipython",
    "version": 3
   },
   "file_extension": ".py",
   "mimetype": "text/x-python",
   "name": "python",
   "nbconvert_exporter": "python",
   "pygments_lexer": "ipython3",
   "version": "3.12.4"
  }
 },
 "nbformat": 4,
 "nbformat_minor": 2
}
