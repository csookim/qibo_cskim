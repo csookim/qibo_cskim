{
 "cells": [
  {
   "cell_type": "markdown",
   "metadata": {},
   "source": [
    "# Structure of Transpiling\n",
    "\n",
    "- There are four types of transpilers: Optimizer, Router, Unroller, and Placer.\n",
    "\n",
    "- Transpilers within the Pass will execute sequentially.\n",
    "\n",
    "- The Placer must run before the Router.\n",
    "\n",
    "- The Placer should only be run once.\n",
    "\n",
    "\n",
    "```\n",
    "transpiler_list = [ ... ]\n",
    "p = Passes(transpiler_list, connectivity, native gates)\n",
    "transpiled_circ, final_layout = p(circuit)\n",
    "```\n",
    "\n",
    "\n",
    "## Passes\n",
    "\n",
    "- A container for transpilers that need to be executed.\n",
    "\n",
    "## Transpilers\n",
    "\n",
    "### Optimizer\n",
    "\n",
    "- `Preprocessing`: Matches the number of logical and physical qubits.\n",
    "- `Rearrange`: Fuses gates.\n",
    "\n",
    "### Placer\n",
    "\n",
    "- `StarConnectivityPlacer`: Optimized qubit placement for the star layout.\n",
    "- `Trivial`: Identity placer.\n",
    "- `Custom`: Applies custom placement.\n",
    "- `Subgraph`: Uses subgraph isomorphism.\n",
    "- `Random`: Random placement.\n",
    "- `ReverseTraversal`: Applies the SABRE algorithm on trivial placer."
   ]
  },
  {
   "cell_type": "markdown",
   "metadata": {},
   "source": [
    "### Router\n",
    "\n",
    " - `StarConnectivityRouter`: Greedily inserts swap gates for the star layout.\n",
    "\n",
    "```py\n",
    "# Pseudocode of finding the next middle qubit\n",
    "\n",
    "def find(i, q1, q2):\n",
    "    for j in range(i, len(gates)):\n",
    "        if g[j] executes on q1 or q2:\n",
    "            return q1 if g[j] executes on q1 else q2\n",
    "        \n",
    "        if not g[j] executes on q1 or q2:\n",
    "            return q1\n",
    "\n",
    "    return q1\n",
    "\n",
    "for i in range(len(gates)):\n",
    "    q1, q2 = g[i].qubits\n",
    "    \n",
    "    if q1 and q2 are not connected:    \n",
    "        next_mid = find(i, q1, q2)\n",
    "    \n",
    "    move next_mid to the middle qubit\n",
    "    q1 and q2 are connected\n",
    "```\n",
    "    \n",
    "- `CircuitMap`\n",
    "- `ShortestPaths`\n",
    "- `Sabre`\n",
    "\n",
    "\n",
    "### Unroller\n",
    "\n",
    "- Consists of several decomposition algorithms.\n"
   ]
  },
  {
   "cell_type": "markdown",
   "metadata": {},
   "source": [
    "# Usage"
   ]
  },
  {
   "cell_type": "markdown",
   "metadata": {},
   "source": [
    "### Utils"
   ]
  },
  {
   "cell_type": "markdown",
   "metadata": {},
   "source": [
    "#### `qibo.cskim_utils.circuit_info.count_czs_qibo`\n",
    "\n",
    "```py\n",
    "def count_czs_qibo(circuit):\n",
    "    \"\"\"\n",
    "    Count the number of CZ gates in a Qibo circuit.\n",
    "    \"\"\"\n",
    "    ...\n",
    "```"
   ]
  },
  {
   "cell_type": "markdown",
   "metadata": {},
   "source": [
    "#### `qibo.cskim_utils.connectivity.star_connectivity`\n",
    "\n",
    "```py\n",
    "def star_connectivity():\n",
    "    \"\"\"\n",
    "    Returns a star graph with 5 nodes and 4 edges.\n",
    "    \"\"\"\n",
    "    ...\n",
    "```"
   ]
  },
  {
   "cell_type": "markdown",
   "metadata": {},
   "source": [
    "#### `qibo.cskim_utils.gen_circuit.random_control_circuit_qibo`\n",
    "\n",
    "```py\n",
    "def random_control_circuit_qibo(n_qubits, n_cs, cx=False):\n",
    "    \"\"\"\n",
    "    Generates a random control Qibo circuit with n_qubits qubits and n_cs control gates.\n",
    "    If cx is True, the control gates are CX, otherwise they are CZ.\n",
    "    \"\"\"\n",
    "```\n"
   ]
  },
  {
   "cell_type": "markdown",
   "metadata": {},
   "source": [
    "### Transpilation"
   ]
  },
  {
   "cell_type": "code",
   "execution_count": 32,
   "metadata": {},
   "outputs": [],
   "source": [
    "import networkx as nx\n",
    "\n",
    "from qibo import gates\n",
    "from qibo.models import Circuit\n",
    "from qibo.transpiler.pipeline import Passes, assert_transpiling\n",
    "from qibo.transpiler.optimizer import *\n",
    "from qibo.transpiler.placer import *\n",
    "from qibo.transpiler.router import *\n",
    "from qibo.transpiler.unroller import *\n",
    "\n",
    "import random\n",
    "\n",
    "from qibo.cskim_utils.circuit_info import count_czs\n",
    "from qibo.cskim_utils.connectivity import star_connectivity\n",
    "from qibo.cskim_utils.gen_circuit import random_control_circuit_qibo"
   ]
  },
  {
   "cell_type": "code",
   "execution_count": 33,
   "metadata": {},
   "outputs": [],
   "source": [
    "custom_passes = []\n",
    "star_conn = star_connectivity()\n",
    "default_gates = NativeGates.default()\n",
    "\n",
    "# All Optimizer classes\n",
    "opt_preprocessing = Preprocessing(connectivity=star_conn)\n",
    "opt_rearrange = Rearrange()\n",
    "\n",
    "# All Placer classes\n",
    "plc_star = StarConnectivityPlacer()\n",
    "plc_trivial = Trivial(connectivity=star_conn)\n",
    "plc_subgraph = Subgraph(connectivity=star_conn)\n",
    "plc_random = Random(connectivity=star_conn)\n",
    "\n",
    "rt_star = StarConnectivityRouter()\n",
    "plc_reversetrv = ReverseTraversal(connectivity=star_conn, routing_algorithm=rt_star)\n",
    "# plc_cus = Custom(connectivity=star_conn)\n",
    "\n",
    "# All Router classes\n",
    "rt_star = StarConnectivityRouter()\n",
    "rt_sabre = Sabre(connectivity=star_conn)\n",
    "rt_shortestpth = ShortestPaths(connectivity=star_conn)\n",
    "# rt_cm = CircuitMap(connectivity=star_conn)\n",
    "\n",
    "# Unroller class\n",
    "unr = Unroller(default_gates)"
   ]
  },
  {
   "cell_type": "code",
   "execution_count": 34,
   "metadata": {},
   "outputs": [],
   "source": [
    "# Append transpiler classes and create a custom transpiler pipeline\n",
    "custom_passes = []\n",
    "\n",
    "# Optimizer\n",
    "custom_passes.append(opt_preprocessing)\n",
    "\n",
    "# Placer\n",
    "custom_passes.append(plc_star)\n",
    "# custom_passes.append(plc_trivial)\n",
    "# custom_passes.append(plc_subgraph)\n",
    "# custom_passes.append(plc_random)\n",
    "# custom_passes.append(plc_reversetrv)\n",
    "# custom_passes.append(plc_cus)\n",
    "\n",
    "# Router\n",
    "# custom_passes.append(rt_star)\n",
    "custom_passes.append(rt_sabre)\n",
    "# custom_passes.append(rt_shortestpth)\n",
    "# custom_passes.append(rt_cm)\n",
    "\n",
    "# Unroller\n",
    "custom_passes.append(unr)\n",
    "\n",
    "custom_pipeline = Passes(custom_passes, connectivity=star_conn, native_gates=default_gates)"
   ]
  },
  {
   "cell_type": "code",
   "execution_count": 35,
   "metadata": {},
   "outputs": [
    {
     "name": "stdout",
     "output_type": "stream",
     "text": [
      "before transpilation: \n",
      "q0: ───o─o─Z─o─\n",
      "q1: ─Z─|─|─|─|─\n",
      "q2: ─o─|─|─|─|─\n",
      "q3: ───|─|─o─|─\n",
      "q4: ───Z─Z───Z─\n",
      "\n",
      "\n",
      "after transpilation: \n",
      "q0: ───────────────────────────────────────────o─\n",
      "q1: ─────────Z─GPI2─Z─Z─GPI2─o─Z─GPI2─Z─Z─GPI2─|─\n",
      "q2: ─o─o─Z─o────────o─Z─GPI2─Z─Z─GPI2─o────────Z─\n",
      "q3: ─|─|─o─|─────────────────────────────────────\n",
      "q4: ─Z─Z───Z─────────────────────────────────────\n"
     ]
    }
   ],
   "source": [
    "# Generate a random circuit\n",
    "circuit = random_control_circuit_qibo(5, 5, cx=False)\n",
    "print(\"before transpilation: \")\n",
    "print(circuit.draw())\n",
    "\n",
    "# Transpile the circuit\n",
    "transpiled_circ, final_layout = custom_pipeline(circuit)\n",
    "print(\"\\n\\nafter transpilation: \")\n",
    "print(transpiled_circ.draw(line_wrap=100))"
   ]
  }
 ],
 "metadata": {
  "kernelspec": {
   "display_name": "qibo-dfaCR4-c-py3.12",
   "language": "python",
   "name": "python3"
  },
  "language_info": {
   "codemirror_mode": {
    "name": "ipython",
    "version": 3
   },
   "file_extension": ".py",
   "mimetype": "text/x-python",
   "name": "python",
   "nbconvert_exporter": "python",
   "pygments_lexer": "ipython3",
   "version": "3.12.4"
  }
 },
 "nbformat": 4,
 "nbformat_minor": 2
}
