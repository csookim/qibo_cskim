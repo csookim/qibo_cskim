{
 "cells": [
  {
   "cell_type": "code",
   "execution_count": 1,
   "metadata": {},
   "outputs": [],
   "source": [
    "from qiskit.transpiler.passes import SetLayout, ApplyLayout\n",
    "from qiskit.transpiler.passes import SabreSwap, TrivialLayout, CheckMap\n",
    "from qiskit.transpiler import CouplingMap, Layout, PassManager\n",
    "\n",
    "from qibo.cskim_utils.circuit_info import count_gates_qibo, count_swaps_qibo\n",
    "from qibo.transpiler.pipeline import Passes\n",
    "from qibo.transpiler.placer import Trivial\n",
    "from qibo.transpiler.router import Sabre\n",
    "\n",
    "from qibo.cskim_utils.circuit_info import count_gates_qiskit, count_swaps_qiskit\n",
    "\n",
    "from qiskit import QuantumCircuit\n",
    "from qibo import gates\n"
   ]
  },
  {
   "cell_type": "code",
   "execution_count": 32,
   "metadata": {},
   "outputs": [],
   "source": [
    "def sabre_qiskit(cmap, circuit, verbose=False):\n",
    "    \"\"\"\n",
    "    Transpile a circuit using only Sabre transpiler from Qiskit.\n",
    "    \"\"\"\n",
    "    if verbose:\n",
    "        print(\"swaps before transpiling\", count_swaps_qiskit(circuit))\n",
    "        print(\"gates before transpiling\", count_gates_qiskit(circuit))\n",
    "\n",
    "    q = circuit.qubits\n",
    "    nqubits = len(q)\n",
    "\n",
    "    pass_manager = PassManager()\n",
    "    pass_manager.append(\n",
    "        SetLayout(Layout({q[i]: i for i in range(nqubits)})))\n",
    "    pass_manager.append(ApplyLayout())\n",
    "    pass_manager.append(SabreSwap(coup, \"decay\"))\n",
    "    new_qc = pass_manager.run(circuit)\n",
    "\n",
    "    if verbose:\n",
    "        display(new_qc.draw(fold=-1))\n",
    "        print(\"swaps after transpiling\", count_swaps_qiskit(new_qc))\n",
    "        print(\"gates after transpiling\", count_gates_qiskit(new_qc))\n",
    "    \n",
    "    added_swaps =  count_swaps_qiskit(new_qc) - count_swaps_qiskit(circuit)\n",
    "    \n",
    "    if verbose:\n",
    "        print(\"added swaps\", added_swaps)\n",
    "    \n",
    "    return added_swaps\n",
    "\n",
    "def sabre_qibo(conn, circuit, verbose=False):\n",
    "    \"\"\"\n",
    "    Transpile a circuit using only Sabre transpiler from Qibo.\n",
    "    \"\"\"\n",
    "    if verbose:\n",
    "        print(\"swaps before transpiling\", count_swaps_qibo(circuit))\n",
    "        print(\"gates before transpiling\", count_gates_qibo(circuit))\n",
    "\n",
    "    custom_passes = [Trivial(connectivity=conn), Sabre(connectivity=conn)]\n",
    "    custom_pipeline = Passes(custom_passes, connectivity=conn)\n",
    "    transpiled_circ, final_layout = custom_pipeline(circuit)\n",
    "\n",
    "    if verbose:\n",
    "        print(transpiled_circ.draw(line_wrap=1000))\n",
    "        print(\"swaps after transpiling\", count_swaps_qibo(transpiled_circ))\n",
    "        print(\"gates after transpiling\", count_gates_qibo(transpiled_circ))\n",
    "    \n",
    "    added_swaps =  count_swaps_qibo(transpiled_circ) - count_swaps_qibo(circuit)\n",
    "    \n",
    "    if verbose:\n",
    "        print(\"added swaps\", added_swaps)\n",
    "\n",
    "    return added_swaps\n",
    "\n",
    "def qibo_to_qiskit_cz(circuit):\n",
    "    qiskit_circuit = QuantumCircuit(circuit.nqubits)\n",
    "    for gate in circuit.queue:\n",
    "        if isinstance(gate, gates.CZ):\n",
    "            qiskit_circuit.cz(gate.qubits[0], gate.qubits[1])\n",
    "    return qiskit_circuit\n"
   ]
  },
  {
   "cell_type": "code",
   "execution_count": 3,
   "metadata": {},
   "outputs": [],
   "source": [
    "nqubits = 10"
   ]
  },
  {
   "cell_type": "code",
   "execution_count": 4,
   "metadata": {},
   "outputs": [],
   "source": [
    "from qibo.cskim_utils.connectivity import complete_connectivity_cmap, complete_connectivity_nx\n",
    "from qibo.cskim_utils.connectivity import cycle_connectivity_cmap, cycle_connectivity_nx\n",
    "from qibo.cskim_utils.connectivity import line_connectivity_cmap, line_connectivity_nx\n",
    "\n",
    "from qibo.cskim_utils.gen_circuit import random_control_circuit_qibo\n",
    "from matplotlib import pyplot as plt\n",
    "\n",
    "from qibo.cskim_utils.gen_circuit import qiskit_qft\n",
    "from qibo.models.qft import QFT"
   ]
  },
  {
   "cell_type": "markdown",
   "metadata": {},
   "source": [
    "## QFT"
   ]
  },
  {
   "cell_type": "code",
   "execution_count": 13,
   "metadata": {},
   "outputs": [
    {
     "name": "stdout",
     "output_type": "stream",
     "text": [
      "added_swap_line_qiskit 65\n",
      "added_swap_line_qibo 60\n",
      "\n",
      "added_swap_cycle_qiskit 53\n",
      "added_swap_cycle_qibo 46\n",
      "\n",
      "added_swap_complete_qiskit 0\n",
      "added_swap_complete_qibo 0\n"
     ]
    }
   ],
   "source": [
    "nqubits = 10\n",
    "qft_circ_qibo = QFT(nqubits)\n",
    "qft_circ_qiskit = qiskit_qft(nqubits)\n",
    "\n",
    "# Line connectivity\n",
    "conn = line_connectivity_nx(nqubits)\n",
    "cmap = line_connectivity_cmap(nqubits)\n",
    "coup = CouplingMap(couplinglist=cmap)\n",
    "\n",
    "nswap_line_qiskit = sabre_qiskit(coup, qft_circ_qiskit, False)\n",
    "nswap_line_qibo = sabre_qibo(conn, qft_circ_qibo, False)\n",
    "\n",
    "print(\"added_swap_line_qiskit\", nswap_line_qiskit)\n",
    "print(\"added_swap_line_qibo\", nswap_line_qibo)\n",
    "\n",
    "# Cycle connectivity\n",
    "conn = cycle_connectivity_nx(nqubits)\n",
    "cmap = cycle_connectivity_cmap(nqubits)\n",
    "coup = CouplingMap(couplinglist=cmap)\n",
    "\n",
    "nswap_cycle_qiskit = sabre_qiskit(coup, qft_circ_qiskit, False)\n",
    "nswap_cycle_qibo = sabre_qibo(conn, qft_circ_qibo, False)\n",
    "\n",
    "print(\"\\nadded_swap_cycle_qiskit\", nswap_cycle_qiskit)\n",
    "print(\"added_swap_cycle_qibo\", nswap_cycle_qibo)\n",
    "\n",
    "# Complete connectivity\n",
    "conn = complete_connectivity_nx(nqubits)\n",
    "cmap = complete_connectivity_cmap(nqubits)\n",
    "coup = CouplingMap(couplinglist=cmap)\n",
    "\n",
    "nswap_complete_qiskit = sabre_qiskit(coup, qft_circ_qiskit, False)\n",
    "nswap_complete_qibo = sabre_qibo(conn, qft_circ_qibo, False)\n",
    "\n",
    "print(\"\\nadded_swap_complete_qiskit\", nswap_complete_qiskit)\n",
    "print(\"added_swap_complete_qibo\", nswap_complete_qibo)"
   ]
  },
  {
   "cell_type": "markdown",
   "metadata": {},
   "source": [
    "## Random Circuit"
   ]
  },
  {
   "cell_type": "markdown",
   "metadata": {},
   "source": [
    "### Line graph"
   ]
  },
  {
   "cell_type": "code",
   "execution_count": 23,
   "metadata": {},
   "outputs": [
    {
     "name": "stdout",
     "output_type": "stream",
     "text": [
      "Avg #SWAPs, line connectivity, Qibo: 34.43\n",
      "Avg #SWAPs, line connectivity, Qiskit: 33.3\n",
      "\n",
      "Min #SWAPs, line connectivity, Qibo: 21\n",
      "Min #SWAPs, line connectivity, Qiskit: 22\n"
     ]
    },
    {
     "data": {
      "image/png": "[encoded data removed]",
      "text/plain": [
       "<Figure size 640x480 with 1 Axes>"
      ]
     },
     "metadata": {},
     "output_type": "display_data"
    }
   ],
   "source": [
    "ncz_qibo_line = []\n",
    "ncz_qiskit_line = []\n",
    "repeat = 100\n",
    "\n",
    "conn = line_connectivity_nx(nqubits)\n",
    "cmap = line_connectivity_cmap(nqubits)\n",
    "coup = CouplingMap(couplinglist=cmap)\n",
    "\n",
    "for i in range(repeat):\n",
    "    random_circ_qibo = random_control_circuit_qibo(10, 20)\n",
    "    random_circ_qiskit = qibo_to_qiskit_cz(random_circ_qibo)\n",
    "\n",
    "    nqiskit = sabre_qiskit(cmap, random_circ_qiskit, False)\n",
    "    nqibo = sabre_qibo(conn, random_circ_qibo, False)\n",
    "\n",
    "    ncz_qibo_line.append(nqibo)\n",
    "    ncz_qiskit_line.append(nqiskit)\n",
    "\n",
    "print(\"Avg #SWAPs, line connectivity, Qibo:\", sum(ncz_qibo_line)/repeat)\n",
    "print(\"Avg #SWAPs, line connectivity, Qiskit:\", sum(ncz_qiskit_line)/repeat)\n",
    "print()\n",
    "print(\"Min #SWAPs, line connectivity, Qibo:\", min(ncz_qibo_line))\n",
    "print(\"Min #SWAPs, line connectivity, Qiskit:\", min(ncz_qiskit_line))\n",
    "\n",
    "plt.hist(ncz_qibo_line, bins=50, color='g', label='Qibo', alpha=0.5)\n",
    "plt.hist(ncz_qiskit_line, bins=50, color='b', label='Qiskit', alpha=0.5)\n",
    "plt.axvline(sum(ncz_qibo_line)/repeat, color='g', linestyle='dashed', linewidth=2)\n",
    "plt.axvline(sum(ncz_qiskit_line)/repeat, color='b', linestyle='dashed', linewidth=2)\n",
    "plt.legend()\n",
    "plt.xlabel(\"Number of SWAPs\")\n",
    "plt.ylabel(\"Frequency\")\n",
    "plt.title(\"#SWAPs / random circuits / line connectivity\")\n",
    "plt.show()"
   ]
  },
  {
   "cell_type": "markdown",
   "metadata": {},
   "source": [
    "### Complete graph"
   ]
  },
  {
   "cell_type": "code",
   "execution_count": 24,
   "metadata": {},
   "outputs": [
    {
     "name": "stdout",
     "output_type": "stream",
     "text": [
      "Avg #SWAPs, complete connectivity, Qibo: 0.0\n",
      "Avg #SWAPs, complete connectivity, Qiskit: 0.0\n",
      "\n",
      "Min #SWAPs, complete connectivity, Qibo: 0\n",
      "Min #SWAPs, complete connectivity, Qiskit: 0\n"
     ]
    },
    {
     "data": {
      "image/png": "[encoded data removed]",
      "text/plain": [
       "<Figure size 640x480 with 1 Axes>"
      ]
     },
     "metadata": {},
     "output_type": "display_data"
    }
   ],
   "source": [
    "ncz_qibo_complete = []\n",
    "ncz_qiskit_complete = []\n",
    "repeat = 10\n",
    "\n",
    "conn = complete_connectivity_nx(nqubits)\n",
    "cmap = complete_connectivity_cmap(nqubits)\n",
    "coup = CouplingMap(couplinglist=cmap)\n",
    "\n",
    "for i in range(repeat):\n",
    "\n",
    "    random_circ_qibo = random_control_circuit_qibo(10, 50)\n",
    "    random_circ_qiskit = qibo_to_qiskit_cz(random_circ_qibo)\n",
    "\n",
    "    nqiskit = sabre_qiskit(cmap, random_circ_qiskit, False)\n",
    "    nqibo = sabre_qibo(conn, random_circ_qibo, False)\n",
    "\n",
    "    ncz_qibo_complete.append(nqibo)\n",
    "    ncz_qiskit_complete.append(nqiskit)\n",
    "\n",
    "print(\"Avg #SWAPs, complete connectivity, Qibo:\", sum(ncz_qibo_complete)/repeat)\n",
    "print(\"Avg #SWAPs, complete connectivity, Qiskit:\", sum(ncz_qiskit_complete)/repeat)\n",
    "print()\n",
    "print(\"Min #SWAPs, complete connectivity, Qibo:\", min(ncz_qibo_complete))\n",
    "print(\"Min #SWAPs, complete connectivity, Qiskit:\", min(ncz_qiskit_complete))\n",
    "\n",
    "plt.hist(ncz_qibo_complete, bins=50, color='g', label='Qibo', alpha=0.5)\n",
    "plt.hist(ncz_qiskit_complete, bins=50, color='b', label='Qiskit', alpha=0.5)\n",
    "plt.axvline(sum(ncz_qibo_complete)/repeat, color='g', linestyle='dashed', linewidth=2)\n",
    "plt.axvline(sum(ncz_qiskit_complete)/repeat, color='b', linestyle='dashed', linewidth=2)\n",
    "plt.legend()\n",
    "plt.xlabel(\"Number of SWAPs\")\n",
    "plt.ylabel(\"Frequency\")\n",
    "plt.title(\"#SWAPs / random circuits / complete connectivity\")\n",
    "plt.show()"
   ]
  },
  {
   "cell_type": "markdown",
   "metadata": {},
   "source": [
    "### Cycle graph"
   ]
  },
  {
   "cell_type": "code",
   "execution_count": 29,
   "metadata": {},
   "outputs": [
    {
     "name": "stdout",
     "output_type": "stream",
     "text": [
      "Avg #SWAPs, cycle connectivity, Qibo: 57.4\n",
      "Avg #SWAPs, cycle connectivity, Qiskit: 57.76\n",
      "\n",
      "Min #SWAPs, cycle connectivity, Qibo: 42\n",
      "Min #SWAPs, cycle connectivity, Qiskit: 44\n"
     ]
    },
    {
     "data": {
      "image/png": "[encoded data removed]",
      "text/plain": [
       "<Figure size 640x480 with 1 Axes>"
      ]
     },
     "metadata": {},
     "output_type": "display_data"
    }
   ],
   "source": [
    "ncz_qibo_cycle = []\n",
    "ncz_qiskit_cycle = []\n",
    "repeat = 100\n",
    "\n",
    "conn = cycle_connectivity_nx(nqubits)\n",
    "cmap = cycle_connectivity_cmap(nqubits)\n",
    "coup = CouplingMap(couplinglist=cmap)\n",
    "\n",
    "for i in range(repeat):\n",
    "\n",
    "    random_circ_qibo = random_control_circuit_qibo(10, 50)\n",
    "    random_circ_qiskit = qibo_to_qiskit_cz(random_circ_qibo)\n",
    "\n",
    "    nqiskit = sabre_qiskit(coup, random_circ_qiskit, False)\n",
    "    nqibo = sabre_qibo(conn, random_circ_qibo, False)\n",
    "\n",
    "    ncz_qibo_cycle.append(nqibo)\n",
    "    ncz_qiskit_cycle.append(nqiskit)\n",
    "\n",
    "print(\"Avg #SWAPs, cycle connectivity, Qibo:\", sum(ncz_qibo_cycle)/repeat)\n",
    "print(\"Avg #SWAPs, cycle connectivity, Qiskit:\", sum(ncz_qiskit_cycle)/repeat)\n",
    "print()\n",
    "print(\"Min #SWAPs, cycle connectivity, Qibo:\", min(ncz_qibo_cycle))\n",
    "print(\"Min #SWAPs, cycle connectivity, Qiskit:\", min(ncz_qiskit_cycle))\n",
    "\n",
    "plt.hist(ncz_qibo_cycle, bins=50, color='g', label='Qibo', alpha=0.5)\n",
    "plt.hist(ncz_qiskit_cycle, bins=50, color='b', label='Qiskit', alpha=0.5)\n",
    "plt.axvline(sum(ncz_qibo_cycle)/repeat, color='g', linestyle='dashed', linewidth=2)\n",
    "plt.axvline(sum(ncz_qiskit_cycle)/repeat, color='b', linestyle='dashed', linewidth=2)\n",
    "plt.legend()\n",
    "plt.xlabel(\"Number of SWAPs\")\n",
    "plt.ylabel(\"Frequency\")\n",
    "plt.title(\"#SWAPs / random circuits / cycle connectivity\")\n",
    "plt.show()"
   ]
  },
  {
   "cell_type": "markdown",
   "metadata": {},
   "source": [
    "# Anomaly"
   ]
  },
  {
   "cell_type": "code",
   "execution_count": 17,
   "metadata": {},
   "outputs": [
    {
     "name": "stdout",
     "output_type": "stream",
     "text": [
      "q0: ───o─────────────o─o─────Z───────────────\n",
      "q1: ───|───o─────────|─|─Z───|─────────Z─o───\n",
      "q2: ───|───Z───o───Z─|─|─|─Z─|─────────|─|───\n",
      "q3: ───|─────o─|─o─|─|─|─|─|─|─────o─o─|─|───\n",
      "q4: ───|─Z───|─Z─|─|─Z─|─o─|─|───o─|─Z─|─|───\n",
      "q5: ───|─|───|───|─|───|───|─|─o─|─Z───|─|───\n",
      "q6: ───Z─|───Z───|─o───Z───|─o─Z─|─────|─Z─Z─\n",
      "q7: ─────|───────|─────────o─────|─────|───|─\n",
      "q8: ─Z───o───────Z───────────────Z─────|───|─\n",
      "q9: ─o─────────────────────────────────o───o─\n"
     ]
    }
   ],
   "source": [
    "from qibo.models.circuit import Circuit\n",
    "\n",
    "qubit_array = [(9, 8), (0, 6), (8, 4), (1, 2), (3, 6), \n",
    "               (2, 4), (3, 8), (6, 2), (0, 4), (0, 6), \n",
    "               (4, 1), (7, 2), (6, 0), (5, 6), (4, 8), \n",
    "               (3, 5), (3, 4), (9, 1), (1, 6), (9, 6)]\n",
    "ano_circ = Circuit(nqubits)\n",
    "\n",
    "for qubit in qubit_array:\n",
    "    ano_circ.add(gates.CZ(*qubit))\n",
    "\n",
    "print(ano_circ.draw(line_wrap=1000))"
   ]
  },
  {
   "cell_type": "code",
   "execution_count": 33,
   "metadata": {},
   "outputs": [
    {
     "name": "stdout",
     "output_type": "stream",
     "text": [
      "=========================================\n",
      "Qibo - Abnormal\n",
      "swaps before transpiling 0\n",
      "gates before transpiling 20\n",
      "q0: ───────────────────────x─────────x─────────────────────────x─────────x─────x───x───x─────────────x─────x───x─────────────x─────────────────────────────────────────────────────x───────────────x───────────x───────────x─────────────────────────────────────────────────────o─x───\n",
      "q1: ───o───────────────────x─o─────o─x─Z─────x───────────────x─x─x───x───x───x─x───x───x───────x─────x───x─x───x───x───────x─x─x───x───────x───x─────x───────x───────────x─────x───x───────────────x─x───x─────x───────────x─────────────────────────────────────────────────x───Z─x─o─\n",
      "q2: ───Z───────────────x─────Z───x─Z───o─────x─────────────x─x───x───x───────x─────────────────x─────────x─────────x─────x─x───x─x─x─────x─x─x─x───x─x─x─────x─────x─────x─x───x─────────────x───────x─x─x─x─────────────x───────────────────────────────x───────────────x───x─o─────Z─\n",
      "q3: ─────────x─────────x─o─────x─x─────────────x─────Z─────x───────────────────────────────────────────────────────────x─x───────x───────x───x─────x───x───────────x───────x─────────────────x─────────x───x─────────────x─────o─Z───────────────────────x─x─────────────x─x───Z───────\n",
      "q4: ───────x─x───────x───Z─────x───────────────x─Z───o───────────────────────────────────────────────────────────────x─x─────────────────────────────────────────────────────────────────────────────────────────────────────x─Z─o───Z─x───────────────────x─Z─────────x───x───────────\n",
      "q5: ─────x─x───────Z─x───────────────────────────o─o─────────────────────────────────────────────────────────────────x───────────────────────────────────────────────────────────────────────────────────────────────────────x─────x─o─x─────Z───Z─────x─────o───────x─x───────────────\n",
      "q6: ─────x───────x─o───────────────────────────────Z─────x─────────────────────────────────────────────────────────────────────────────────────────────────────────────────────────────────────────────────────────────────────────x───────Z─o─x─o───x─x───────────x─x─────────────────\n",
      "q7: ───────────x─x─────────────────────────x───────────x─x─────────────x───x─────x───────x───x─────x─────────x───────────────────────x───────────x─────────x───x───────x─────x───x─────x───x───x───────────────────x───x─────────────────x─o───x───x─x───────────x─x───────────────────\n",
      "q8: ─Z─────────x─────────────────────────x─x───────────x───────────x───x───x─────x───x───x─x─x───x─x───x─────x───x───────────────────x─x─────────x───────x─x───x─x───x─x─────x───x───x─x─x─x───x─x───────────x───x─x─x─x─────────────────x─────────x───────────x─x─────────────────────\n",
      "q9: ─o───────────────────────────────────x─────────────────────────x─────────────────x─────x─────x─────x─────────x─────────────────────x─────────────────x───────x───x───────────────x───x───────x───────────x───x───x─────────────────────────────────────────x───────────────────────\n",
      "swaps after transpiling 117\n",
      "gates after transpiling 137\n",
      "added swaps 117\n",
      "\n",
      "\n",
      "=========================================\n",
      "Qiskit - Normal\n",
      "swaps before transpiling 0\n",
      "gates before transpiling 20\n"
     ]
    },
    {
     "data": {
      "text/html": [
       "<pre style=\"word-wrap: normal;white-space: pre;background: #fff0;line-height: 1.1;font-family: &quot;Courier New&quot;,Courier,monospace\">                                                                                       \n",
       "q_0 -> 0 ────────────────■─────────────────■───────────■──■────────────────────────────\n",
       "                         │                 │           │  │                            \n",
       "q_1 -> 1 ─■───────────X──■──X───────────X──■──■─────X──■──■──X─────X───────────────────\n",
       "          │           │     │           │     │     │        │     │                   \n",
       "q_2 -> 2 ─■────────X──X─────X──■─────X──X─────■──X──X──■─────X──X──X──────────────■────\n",
       "                   │           │     │           │     │        │                 │    \n",
       "q_3 -> 3 ───────X──X──X────────■──X──X──■────────X──X──■────────X──■─────X─────X──■────\n",
       "                │     │           │     │           │              │     │     │       \n",
       "q_4 -> 4 ────X──X─────X──■──X─────X──X──■──X─────X──X──X───────────■──■──X──X──X───────\n",
       "             │           │  │        │     │     │     │              │     │          \n",
       "q_5 -> 5 ─X──X─────■─────■──X────────X──■──X──X──X──X──X──X───────────■─────X──■─────■─\n",
       "          │        │                    │     │     │     │                    │     │ \n",
       "q_6 -> 6 ─X─────X──■────────────────────■─────X──X──X─────X──■─────────────────■──X──■─\n",
       "                │                                │           │                    │    \n",
       "q_7 -> 7 ────X──X────────────────────────────────X──■─────X──■────────────────────X────\n",
       "             │                                      │     │                            \n",
       "q_8 -> 8 ─■──X──────────────────────────────────────■──X──X────────────────────────────\n",
       "          │                                            │                               \n",
       "q_9 -> 9 ─■────────────────────────────────────────────X───────────────────────────────\n",
       "                                                                                       </pre>"
      ],
      "text/plain": [
       "                                                                                       \n",
       "q_0 -> 0 ────────────────■─────────────────■───────────■──■────────────────────────────\n",
       "                         │                 │           │  │                            \n",
       "q_1 -> 1 ─■───────────X──■──X───────────X──■──■─────X──■──■──X─────X───────────────────\n",
       "          │           │     │           │     │     │        │     │                   \n",
       "q_2 -> 2 ─■────────X──X─────X──■─────X──X─────■──X──X──■─────X──X──X──────────────■────\n",
       "                   │           │     │           │     │        │                 │    \n",
       "q_3 -> 3 ───────X──X──X────────■──X──X──■────────X──X──■────────X──■─────X─────X──■────\n",
       "                │     │           │     │           │              │     │     │       \n",
       "q_4 -> 4 ────X──X─────X──■──X─────X──X──■──X─────X──X──X───────────■──■──X──X──X───────\n",
       "             │           │  │        │     │     │     │              │     │          \n",
       "q_5 -> 5 ─X──X─────■─────■──X────────X──■──X──X──X──X──X──X───────────■─────X──■─────■─\n",
       "          │        │                    │     │     │     │                    │     │ \n",
       "q_6 -> 6 ─X─────X──■────────────────────■─────X──X──X─────X──■─────────────────■──X──■─\n",
       "                │                                │           │                    │    \n",
       "q_7 -> 7 ────X──X────────────────────────────────X──■─────X──■────────────────────X────\n",
       "             │                                      │     │                            \n",
       "q_8 -> 8 ─■──X──────────────────────────────────────■──X──X────────────────────────────\n",
       "          │                                            │                               \n",
       "q_9 -> 9 ─■────────────────────────────────────────────X───────────────────────────────\n",
       "                                                                                       "
      ]
     },
     "metadata": {},
     "output_type": "display_data"
    },
    {
     "name": "stdout",
     "output_type": "stream",
     "text": [
      "swaps after transpiling 33\n",
      "gates after transpiling 53\n",
      "added swaps 33\n"
     ]
    }
   ],
   "source": [
    "conn = line_connectivity_nx(nqubits)\n",
    "cmap = line_connectivity_cmap(nqubits)\n",
    "coup = CouplingMap(couplinglist=cmap)\n",
    "\n",
    "ano_circ_qiskit = qibo_to_qiskit_cz(ano_circ)\n",
    "\n",
    "print(\"=========================================\")\n",
    "print(\"Qibo - Abnormal\")\n",
    "nqibo = sabre_qibo(conn, ano_circ, True)\n",
    "\n",
    "\n",
    "print(\"\\n\\n=========================================\")\n",
    "print(\"Qiskit - Normal\")\n",
    "nqiskit = sabre_qiskit(coup, ano_circ_qiskit, True)\n"
   ]
  },
  {
   "cell_type": "code",
   "execution_count": 36,
   "metadata": {},
   "outputs": [
    {
     "name": "stdout",
     "output_type": "stream",
     "text": [
      "Qibo(Abnormal) added swaps: 117\n",
      "Qiskit(Normal) added swaps: 33\n"
     ]
    }
   ],
   "source": [
    "# print(\"added_swap / abnormal_qibo\", nqibo)\n",
    "# print(\"added_swap / normal_qiskit\", nqiskit)\n",
    "\n",
    "print(\"Qibo(Abnormal) added swaps:\", nqibo)\n",
    "print(\"Qiskit(Normal) added swaps:\", nqiskit)"
   ]
  }
 ],
 "metadata": {
  "kernelspec": {
   "display_name": "qibo-dfaCR4-c-py3.12",
   "language": "python",
   "name": "python3"
  },
  "language_info": {
   "codemirror_mode": {
    "name": "ipython",
    "version": 3
   },
   "file_extension": ".py",
   "mimetype": "text/x-python",
   "name": "python",
   "nbconvert_exporter": "python",
   "pygments_lexer": "ipython3",
   "version": "3.12.4"
  }
 },
 "nbformat": 4,
 "nbformat_minor": 2
}
