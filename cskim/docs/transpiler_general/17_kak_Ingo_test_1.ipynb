{
 "cells": [
  {
   "cell_type": "markdown",
   "metadata": {},
   "source": [
    "## Functions added to KAK decompose a block\n"
   ]
  },
  {
   "cell_type": "markdown",
   "metadata": {},
   "source": [
    "### `Block.unitary()`\n",
    "\n",
    "```py\n",
    "# Make a Circuit object and obtain the unitary by running the circuit\n",
    "def unitary(self):\n",
    "    \"\"\"Return the unitary matrix of the block.\"\"\"\n",
    "```\n",
    "\n",
    "### `Block.kak_decompose()`\n",
    "\n",
    "```py\n",
    "def kak_decompose(self):\n",
    "    \"\"\"\n",
    "    Return the KAK decomposition of the block.\n",
    "    This should be done only if the block is entangled and the number of\n",
    "    two qubit gates is higher than the number after the decomposition.\n",
    "    \"\"\"\n",
    "```"
   ]
  },
  {
   "cell_type": "markdown",
   "metadata": {},
   "source": [
    "## Test function for Block.kak_decompose()\n"
   ]
  },
  {
   "cell_type": "code",
   "execution_count": 18,
   "metadata": {},
   "outputs": [],
   "source": [
    "# File: test_transpiler_blocks_kak.py\n",
    "\n",
    "import numpy as np\n",
    "from qibo import gates\n",
    "from qibo.transpiler.blocks import Block\n",
    "\n",
    "def test_block_kak(qubits):\n",
    "    \"\"\"\n",
    "    Test the KAK decomposition of a block.\n",
    "    \"\"\"\n",
    "\n",
    "    # Create a block with H, S, CNOT, TDG gates\n",
    "    block = Block(\n",
    "        qubits=qubits,\n",
    "        # NO ERROR\n",
    "        gates = [gates.H(0), gates.S(1), gates.TDG(0), gates.CNOT(0, 1), gates.CNOT(1, 0)],\n",
    "        \n",
    "        #### ERROR ####\n",
    "        # gates = [gates.H(0), gates.S(1), gates.CNOT(1, 0), gates.TDG(0), gates.CNOT(0, 1), gates.CNOT(1, 0)],\n",
    "    )\n",
    "\n",
    "    # Obtain the unitary matrix of the block\n",
    "    U = block.unitary()\n",
    "\n",
    "    # Perform the KAK decomposition\n",
    "    A0, A1, K, B0, B1 = block.kak_decompose()\n",
    "\n",
    "    # Reassemble the decomposed matrices\n",
    "    orig = (np.kron(A0, A1) @ heisenberg_unitary(K) @ np.kron(B0.conj().T, B1.conj().T))\n",
    "\n",
    "    # Check that the original and decomposed matrices are equal\n",
    "    assert ( np.linalg.norm(orig - U) < 1e-8 )\n",
    "\n",
    "def heisenberg_unitary(k):\n",
    "    from scipy.linalg import expm\n",
    "\n",
    "    PAULI_X = np.array([[0, 1], [1, 0]])\n",
    "    PAULI_Y = np.array([[0, -1j], [1j, 0]])\n",
    "    PAULI_Z = np.array([[1, 0], [0, -1]])\n",
    "\n",
    "    PXX = np.kron(PAULI_X, PAULI_X)\n",
    "    PYY = np.kron(PAULI_Y, PAULI_Y)\n",
    "    PZZ = np.kron(PAULI_Z, PAULI_Z)\n",
    "\n",
    "    H = k[0] * np.eye(4) + k[1] * PXX + k[2] * PYY + k[3] * PZZ\n",
    "    return expm(1j * H)"
   ]
  },
  {
   "cell_type": "code",
   "execution_count": 19,
   "metadata": {},
   "outputs": [],
   "source": [
    "qubits = (1, 2)\n",
    "\n",
    "test_block_kak(qubits)\n"
   ]
  },
  {
   "cell_type": "markdown",
   "metadata": {},
   "source": [
    "### Issue\n",
    "\n",
    "- The KAK decomposition is not working for the following block:\n",
    "```py\n",
    "gates = [gates.H(0), gates.S(1), gates.CNOT(1, 0), gates.TDG(0), gates.CNOT(0, 1), gates.CNOT(1, 0)]\n",
    "```"
   ]
  }
 ],
 "metadata": {
  "kernelspec": {
   "display_name": "qibo-dfaCR4-c-py3.12",
   "language": "python",
   "name": "python3"
  },
  "language_info": {
   "codemirror_mode": {
    "name": "ipython",
    "version": 3
   },
   "file_extension": ".py",
   "mimetype": "text/x-python",
   "name": "python",
   "nbconvert_exporter": "python",
   "pygments_lexer": "ipython3",
   "version": "3.12.4"
  }
 },
 "nbformat": 4,
 "nbformat_minor": 2
}
