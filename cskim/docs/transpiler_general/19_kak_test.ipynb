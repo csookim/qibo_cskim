{
 "cells": [
  {
   "cell_type": "code",
   "execution_count": 1,
   "metadata": {},
   "outputs": [],
   "source": [
    "from IPython.display import display, Math\n",
    "\n",
    "def print_matrix(array):\n",
    "    matrix = ''\n",
    "    for row in array:\n",
    "        try:\n",
    "            for number in row:\n",
    "                matrix += f'{number}&'\n",
    "        except TypeError:\n",
    "            matrix += f'{row}&'\n",
    "        matrix = matrix[:-1] + r'\\\\'\n",
    "    display(Math(r'\\begin{bmatrix}'+matrix+r'\\end{bmatrix}'))"
   ]
  },
  {
   "cell_type": "markdown",
   "metadata": {},
   "source": [
    "# Ingo's code"
   ]
  },
  {
   "cell_type": "code",
   "execution_count": 2,
   "metadata": {},
   "outputs": [],
   "source": [
    "import numpy as np\n",
    "\n",
    "MAGIC_BASIS = np.array(\n",
    "    [[1, 0, 0, 1j], [0, 1j, 1, 0], [0, 1j, -1, 0], [1, 0, 0, -1j]]\n",
    ") / np.sqrt(2)\n",
    "\n",
    "HADAMARD = np.array([[1, 1, -1, 1], [1, 1, 1, -1], [1, -1, -1, -1], [1, -1, 1, 1]]) / 2"
   ]
  },
  {
   "cell_type": "code",
   "execution_count": 3,
   "metadata": {},
   "outputs": [],
   "source": [
    "def orth_decomp_of_unitary(X):\n",
    "    \"\"\"Decomposes unitary X = Ql @ exp(i Theta) @ Qr'\n",
    "    into orthogonal matrices Ql, Qr and angles Theta.\n",
    "\n",
    "    \"\"\"\n",
    "\n",
    "    # one can also directly decompose XX^T and infer Ql from Qr. This might save about 3 eigh / qrs\n",
    "    # I will here try to implement something where I understand the proof, why it works.\n",
    "    # The benefit here is that we reliably work with real orthogonal matrices all the time.\n",
    "    Xr = X.real\n",
    "    Xi = X.imag\n",
    "    _, Ql = np.linalg.eigh(Xr @ Xi.transpose())\n",
    "    _, Qr = np.linalg.eigh(Xr.transpose() @ Xi)\n",
    "\n",
    "    Dr = Ql.transpose() @ Xr @ Qr\n",
    "    # if Xi injective this is diagonal, if not there is an arbitrary SO(dim ker(xi)) too much\n",
    "    # fixing the kernels, I don't know if there is a smarted way to do this!\n",
    "    if not np.allclose(Dr, np.diag(np.diag(Dr))):\n",
    "        Q, R = np.linalg.qr(Dr)\n",
    "        Dr = np.diag(R).copy()\n",
    "        Ql = Ql @ Q\n",
    "    else:\n",
    "        Dr = np.diag(Dr).copy()\n",
    "\n",
    "    Di = Ql.transpose() @ Xi @ Qr\n",
    "    # if Xr injective this is diagonal, if not there is an arbitrary SO(dim ker(Xr)) too much\n",
    "    if not np.allclose(Di, np.diag(np.diag(Di))):\n",
    "        Q, R = np.linalg.qr(Di.T)\n",
    "        Di = np.diag(R).copy()\n",
    "        Qr = Qr @ Q\n",
    "\n",
    "    else:\n",
    "        Di = np.diag(Di).copy()\n",
    "\n",
    "    # ensure Ql, Qr are in SO\n",
    "    if np.linalg.det(Ql) < 0:\n",
    "        Ql[:, 0] = -Ql[:, 0]\n",
    "        Dr[0] = -Dr[0]\n",
    "        Di[0] = -Di[0]\n",
    "\n",
    "    if np.linalg.det(Qr) < 0:\n",
    "        Qr[:, 0] = -Qr[:, 0]\n",
    "        Dr[0] = -Dr[0]\n",
    "        Di[0] = -Di[0]\n",
    "\n",
    "    Theta = np.angle(Dr + 1j * Di)\n",
    "\n",
    "    return Theta, Qr, Ql\n",
    "\n",
    "def unit_kronecker_rank_approx(X, verbose=True):\n",
    "    \"\"\"Approximates a n^2 x m^2 matrix X  as A otimes B\"\"\"\n",
    "    # better check for square dimensions\n",
    "\n",
    "    n, m = np.sqrt(X.shape).astype(int)\n",
    "\n",
    "    Y = X.reshape(n, n, m, m).transpose((0, 2, 1, 3)).reshape(n * m, n * m)\n",
    "    U, S, Vh = np.linalg.svd(Y)\n",
    "\n",
    "    # if verbose:\n",
    "    #     print(\"Truncating the spectrum\", S)\n",
    "\n",
    "    U = U @ np.sqrt(np.diag(S))\n",
    "    Vh = np.sqrt(np.diag(S)) @ Vh\n",
    "    A = U[:, 0].reshape(n, m)\n",
    "    B = Vh[0, :].reshape(n, m)\n",
    "    return A, B"
   ]
  },
  {
   "cell_type": "code",
   "execution_count": 5,
   "metadata": {},
   "outputs": [],
   "source": [
    "def KAK_decomp(U):\n",
    "    \"\"\"Calculates the KAK decomposition of U in U(4).\n",
    "    U = np.kron(A0, A1) @ heisenberg_unitary(K) @ np.kron(B0.conj().T, B1.conj().T)\n",
    "    \"\"\"\n",
    "\n",
    "    Theta, Qr, Ql = orth_decomp_of_unitary(MAGIC_BASIS.conj().T @ U @ MAGIC_BASIS)\n",
    "    A0, A1 = unit_kronecker_rank_approx(MAGIC_BASIS @ Ql @ MAGIC_BASIS.conj().T)\n",
    "    B0, B1 = unit_kronecker_rank_approx(MAGIC_BASIS @ Qr @ MAGIC_BASIS.conj().T)\n",
    "    K = HADAMARD.T @ Theta / 2\n",
    "\n",
    "    # print(\"Theta\", Theta)\n",
    "    # print(\"K\", K)\n",
    "\n",
    "    # Make A0, A1, B0, B1 special\n",
    "    def make_special(X):\n",
    "        return np.sqrt(np.linalg.det(X).conj()) * X\n",
    "\n",
    "    A0, A1, B0, B1 = map(make_special, (A0, A1, B0, B1))\n",
    "\n",
    "    return A0, A1, K, B0, B1"
   ]
  },
  {
   "cell_type": "markdown",
   "metadata": {},
   "source": [
    "# Tests"
   ]
  },
  {
   "cell_type": "code",
   "execution_count": 6,
   "metadata": {},
   "outputs": [],
   "source": [
    "PAULI_X = np.array([[0, 1], [1, 0]])\n",
    "PAULI_Y = np.array([[0, -1j], [1j, 0]])\n",
    "PAULI_Z = np.array([[1, 0], [0, -1]])\n",
    "\n",
    "PXX = np.kron(PAULI_X, PAULI_X)\n",
    "PYY = np.kron(PAULI_Y, PAULI_Y)\n",
    "PZZ = np.kron(PAULI_Z, PAULI_Z)"
   ]
  },
  {
   "cell_type": "code",
   "execution_count": 10,
   "metadata": {},
   "outputs": [],
   "source": [
    "# some convenient functions and constants\n",
    "def haar_rand_unitary(dim, real=False):\n",
    "    \"\"\"Returns a random unitary dim x dim matrix drawn from the Haar measure.\n",
    "\n",
    "    Args:\n",
    "        dim (int): the dimension of the unitary\n",
    "        real (boolean): If true returns an orthogonal matrix.\n",
    "\n",
    "    Returns:\n",
    "        numpy.array: random unitary matrix\n",
    "    \"\"\"\n",
    "\n",
    "    # Draw a random Gaussian\n",
    "    gaussianMatrix = np.random.randn(dim, dim)\n",
    "    if not real:  # Add a random imaginary part\n",
    "        gaussianMatrix = gaussianMatrix + 1j * np.random.randn(dim, dim)\n",
    "\n",
    "    # project to Haar random unitary\n",
    "    Q, R = np.linalg.qr(gaussianMatrix)\n",
    "    D = np.diag(R)\n",
    "    D = D / np.abs(D)\n",
    "    R = np.diag(D)\n",
    "    Q = Q.dot(R)\n",
    "\n",
    "    return Q\n",
    "\n",
    "def is_unitary(X, special=False, eps=1e-8):\n",
    "    is_special = np.abs(np.linalg.det(X) - 1) < 1e-8 if special else True\n",
    "    return is_special and np.linalg.norm(X @ X.conj().T - np.eye(X.shape[0])) < eps\n",
    "\n",
    "def heisenberg_unitary(k):\n",
    "    from scipy.linalg import expm\n",
    "\n",
    "    H = k[0] * np.eye(4) + k[1] * PXX + k[2] * PYY + k[3] * PZZ\n",
    "    return expm(1j * H)"
   ]
  },
  {
   "cell_type": "markdown",
   "metadata": {},
   "source": [
    "## test low_kronecker_rank_approx"
   ]
  },
  {
   "cell_type": "code",
   "execution_count": 8,
   "metadata": {},
   "outputs": [],
   "source": [
    "n, m = 2, 3\n",
    "\n",
    "A = np.random.randn(n, m)\n",
    "B = np.random.randn(n, m)\n",
    "\n",
    "C = np.kron(A, B)\n",
    "\n",
    "Arec, Brec = unit_kronecker_rank_approx(C)\n",
    "\n",
    "assert np.linalg.norm(C - np.kron(Arec, Brec)) < 1e-8\n"
   ]
  },
  {
   "cell_type": "markdown",
   "metadata": {},
   "source": [
    "## test orth_decomp_of_unitary"
   ]
  },
  {
   "cell_type": "code",
   "execution_count": 23,
   "metadata": {},
   "outputs": [],
   "source": [
    "dim = 10\n",
    "\n",
    "X = haar_rand_unitary(dim)\n",
    "\n",
    "\n",
    "def test_orth_decomp_of_unitary(X):\n",
    "\n",
    "    Theta, Qr, Ql = orth_decomp_of_unitary(X)\n",
    "    assert np.linalg.norm(Ql @ np.diag(np.exp(1j * Theta)) @ Qr.T - X) < 1e-8\n",
    "\n",
    "\n",
    "test_orth_decomp_of_unitary(X)\n"
   ]
  },
  {
   "cell_type": "markdown",
   "metadata": {},
   "source": [
    "## test KAK_decomp(U)\n"
   ]
  },
  {
   "cell_type": "code",
   "execution_count": 24,
   "metadata": {},
   "outputs": [],
   "source": [
    "def test_KAK_decomposition(U):\n",
    "    A0, A1, K, B0, B1 = KAK_decomp(U)\n",
    "\n",
    "    # Correctly decomposed\n",
    "    assert (\n",
    "        np.linalg.norm(\n",
    "            np.kron(A0, A1) @ heisenberg_unitary(K) @ np.kron(B0.conj().T, B1.conj().T)\n",
    "            - U\n",
    "        )\n",
    "        < 1e-8\n",
    "    )\n",
    "\n",
    "    # A0, A1, B0, B1 are in SU(2)\n",
    "    assert is_unitary(A0, special=True)\n",
    "    assert is_unitary(A1, special=True)\n",
    "    assert is_unitary(B0, special=True)\n",
    "    assert is_unitary(B1, special=True)"
   ]
  },
  {
   "cell_type": "markdown",
   "metadata": {},
   "source": [
    "## test KAK_decomp of random unitary\n"
   ]
  },
  {
   "cell_type": "code",
   "execution_count": 25,
   "metadata": {},
   "outputs": [
    {
     "name": "stdout",
     "output_type": "stream",
     "text": [
      "Truncating the spectrum [2.00000000e+00 4.44592333e-16 2.32626279e-16 4.32850843e-17]\n",
      "Truncating the spectrum [2.00000000e+00 3.89653131e-16 9.65150913e-17 6.90526114e-17]\n",
      "Theta [2.07729384 3.01223401 1.32817007 0.74953761]\n",
      "K [ 1.79180888  0.75295504  0.08907693 -0.37839316]\n"
     ]
    }
   ],
   "source": [
    "test_KAK_decomposition(haar_rand_unitary(4))\n"
   ]
  },
  {
   "cell_type": "markdown",
   "metadata": {},
   "source": [
    "## test I, CNOT"
   ]
  },
  {
   "cell_type": "code",
   "execution_count": 28,
   "metadata": {},
   "outputs": [
    {
     "name": "stdout",
     "output_type": "stream",
     "text": [
      "Truncating the spectrum [2.00000000e+00 2.33376666e-16 6.50353591e-17 2.38194531e-33]\n",
      "Truncating the spectrum [2.00000000e+00 2.33376666e-16 6.50353591e-17 2.38194531e-33]\n",
      "Theta [ 3.14159265e+00 -5.15630170e-34  5.15630170e-34 -3.14159265e+00]\n",
      "K [ 0.          1.57079633 -1.57079633  0.        ]\n"
     ]
    },
    {
     "ename": "AssertionError",
     "evalue": "",
     "output_type": "error",
     "traceback": [
      "\u001b[0;31m---------------------------------------------------------------------------\u001b[0m",
      "\u001b[0;31mAssertionError\u001b[0m                            Traceback (most recent call last)",
      "Cell \u001b[0;32mIn[28], line 3\u001b[0m\n\u001b[1;32m      1\u001b[0m tc \u001b[38;5;241m=\u001b[39m np\u001b[38;5;241m.\u001b[39meye(\u001b[38;5;241m4\u001b[39m)\n\u001b[0;32m----> 3\u001b[0m \u001b[43mtest_KAK_decomposition\u001b[49m\u001b[43m(\u001b[49m\u001b[43mtc\u001b[49m\u001b[43m)\u001b[49m\n",
      "Cell \u001b[0;32mIn[24], line 6\u001b[0m, in \u001b[0;36mtest_KAK_decomposition\u001b[0;34m(U)\u001b[0m\n\u001b[1;32m      2\u001b[0m A0, A1, K, B0, B1 \u001b[38;5;241m=\u001b[39m KAK_decomp(U)\n\u001b[1;32m      4\u001b[0m \u001b[38;5;66;03m# Correctly decomposed\u001b[39;00m\n\u001b[1;32m      5\u001b[0m \u001b[38;5;28;01massert\u001b[39;00m (\n\u001b[0;32m----> 6\u001b[0m     np\u001b[38;5;241m.\u001b[39mlinalg\u001b[38;5;241m.\u001b[39mnorm(\n\u001b[1;32m      7\u001b[0m         np\u001b[38;5;241m.\u001b[39mkron(A0, A1) \u001b[38;5;241m@\u001b[39m heisenberg_unitary(K) \u001b[38;5;241m@\u001b[39m np\u001b[38;5;241m.\u001b[39mkron(B0\u001b[38;5;241m.\u001b[39mconj()\u001b[38;5;241m.\u001b[39mT, B1\u001b[38;5;241m.\u001b[39mconj()\u001b[38;5;241m.\u001b[39mT)\n\u001b[1;32m      8\u001b[0m         \u001b[38;5;241m-\u001b[39m U\n\u001b[1;32m      9\u001b[0m     )\n\u001b[1;32m     10\u001b[0m     \u001b[38;5;241m<\u001b[39m \u001b[38;5;241m1e-8\u001b[39m\n\u001b[1;32m     11\u001b[0m )\n\u001b[1;32m     13\u001b[0m \u001b[38;5;66;03m# A0, A1, B0, B1 are in SU(2)\u001b[39;00m\n\u001b[1;32m     14\u001b[0m \u001b[38;5;28;01massert\u001b[39;00m is_unitary(A0, special\u001b[38;5;241m=\u001b[39m\u001b[38;5;28;01mTrue\u001b[39;00m)\n",
      "\u001b[0;31mAssertionError\u001b[0m: "
     ]
    }
   ],
   "source": [
    "tc = np.eye(4)\n",
    "\n",
    "# Generates error\n",
    "test_KAK_decomposition(tc)"
   ]
  },
  {
   "cell_type": "code",
   "execution_count": 25,
   "metadata": {},
   "outputs": [],
   "source": [
    "# function to print the reassembled matrix and the original matrix\n",
    "def test_KAK_decomposition_2(U):\n",
    "    A0, A1, K, B0, B1 = KAK_decomp(U)\n",
    "\n",
    "    print(\"\\nThe matrix reassembled after the KAK decomposition\")\n",
    "    after_kak = np.kron(A0, A1) @ heisenberg_unitary(K) @ np.kron(B0.conj().T, B1.conj().T)\n",
    "    print_matrix(after_kak.round(5))\n",
    "\n",
    "    print(\"The original matrix\")\n",
    "    print_matrix(U)\n",
    "\n",
    "    dist = np.linalg.norm(after_kak - U)\n",
    "    print(\"The distance between the two matrices is\", dist)"
   ]
  },
  {
   "cell_type": "code",
   "execution_count": 26,
   "metadata": {},
   "outputs": [
    {
     "name": "stdout",
     "output_type": "stream",
     "text": [
      "\n",
      "The matrix reassembled after the KAK decomposition\n"
     ]
    },
    {
     "data": {
      "text/latex": [
       "$\\displaystyle \\begin{bmatrix}(-1+0j)&(-0+0j)&-0j&-0j\\\\(-0-0j)&(-1+0j)&-0j&-0j\\\\(-0-0j)&(-0-0j)&(-1-0j)&(-0+0j)\\\\(-0+0j)&(-0-0j)&(-0-0j)&(-1+0j)\\\\\\end{bmatrix}$"
      ],
      "text/plain": [
       "<IPython.core.display.Math object>"
      ]
     },
     "metadata": {},
     "output_type": "display_data"
    },
    {
     "name": "stdout",
     "output_type": "stream",
     "text": [
      "The original matrix\n"
     ]
    },
    {
     "data": {
      "text/latex": [
       "$\\displaystyle \\begin{bmatrix}1&0&0&0\\\\0&1&0&0\\\\0&0&1&0\\\\0&0&0&1\\\\\\end{bmatrix}$"
      ],
      "text/plain": [
       "<IPython.core.display.Math object>"
      ]
     },
     "metadata": {},
     "output_type": "display_data"
    },
    {
     "name": "stdout",
     "output_type": "stream",
     "text": [
      "The distance between the two matrices is 4.000000000000003\n"
     ]
    }
   ],
   "source": [
    "# IDENTITY GATE\n",
    "id = np.eye(4, dtype=int)\n",
    "test_KAK_decomposition_2(id)"
   ]
  },
  {
   "cell_type": "code",
   "execution_count": 29,
   "metadata": {},
   "outputs": [
    {
     "name": "stdout",
     "output_type": "stream",
     "text": [
      "\n",
      "The matrix reassembled after the KAK decomposition\n"
     ]
    },
    {
     "data": {
      "text/latex": [
       "$\\displaystyle \\begin{bmatrix}(-0.36977-0.26991j)&(0.36977+0.26991j)&(0.11854+0.33761j)&(0.11854-0.66239j)\\\\(-0.36977-0.26991j)&(0.36977+0.26991j)&(0.11854-0.66239j)&(0.11854+0.33761j)\\\\(-0.11854+0.66239j)&(0.11854+0.33761j)&(0.36977+0.26991j)&(0.36977+0.26991j)\\\\(0.11854+0.33761j)&(-0.11854+0.66239j)&(-0.36977-0.26991j)&(-0.36977-0.26991j)\\\\\\end{bmatrix}$"
      ],
      "text/plain": [
       "<IPython.core.display.Math object>"
      ]
     },
     "metadata": {},
     "output_type": "display_data"
    },
    {
     "name": "stdout",
     "output_type": "stream",
     "text": [
      "The original matrix\n"
     ]
    },
    {
     "data": {
      "text/latex": [
       "$\\displaystyle \\begin{bmatrix}1&0&0&0\\\\0&1&0&0\\\\0&0&0&1\\\\0&0&1&0\\\\\\end{bmatrix}$"
      ],
      "text/plain": [
       "<IPython.core.display.Math object>"
      ]
     },
     "metadata": {},
     "output_type": "display_data"
    },
    {
     "name": "stdout",
     "output_type": "stream",
     "text": [
      "The distance between the two matrices is 2.8284271247461885\n"
     ]
    }
   ],
   "source": [
    "# CNOT GATE\n",
    "cnot = np.array([[1, 0, 0, 0], [0, 1, 0, 0], [0, 0, 0, 1], [0, 0, 1, 0]])\n",
    "test_KAK_decomposition_2(cnot)"
   ]
  },
  {
   "cell_type": "code",
   "execution_count": 28,
   "metadata": {},
   "outputs": [
    {
     "name": "stdout",
     "output_type": "stream",
     "text": [
      "\n",
      "The matrix reassembled after the KAK decomposition\n"
     ]
    },
    {
     "data": {
      "text/latex": [
       "$\\displaystyle \\begin{bmatrix}(1+0j)&(-0-0j)&0j&0j\\\\0j&(-0-0j)&(-1-0j)&(-0-0j)\\\\0j&(-1+0j)&0j&0j\\\\0j&(-0+0j)&(-0-0j)&(-1+0j)\\\\\\end{bmatrix}$"
      ],
      "text/plain": [
       "<IPython.core.display.Math object>"
      ]
     },
     "metadata": {},
     "output_type": "display_data"
    },
    {
     "name": "stdout",
     "output_type": "stream",
     "text": [
      "The original matrix\n"
     ]
    },
    {
     "data": {
      "text/latex": [
       "$\\displaystyle \\begin{bmatrix}1&0&0&0\\\\0&1&0&0\\\\0&0&1&0\\\\0&0&0&-1\\\\\\end{bmatrix}$"
      ],
      "text/plain": [
       "<IPython.core.display.Math object>"
      ]
     },
     "metadata": {},
     "output_type": "display_data"
    },
    {
     "name": "stdout",
     "output_type": "stream",
     "text": [
      "The distance between the two matrices is 2.000000000000001\n"
     ]
    }
   ],
   "source": [
    "# CZ GATE\n",
    "cz = np.array([[1, 0, 0, 0], [0, 1, 0, 0], [0, 0, 1, 0], [0, 0, 0, -1]])\n",
    "test_KAK_decomposition_2(cz)"
   ]
  }
 ],
 "metadata": {
  "kernelspec": {
   "display_name": "qibo-dfaCR4-c-py3.12",
   "language": "python",
   "name": "python3"
  },
  "language_info": {
   "codemirror_mode": {
    "name": "ipython",
    "version": 3
   },
   "file_extension": ".py",
   "mimetype": "text/x-python",
   "name": "python",
   "nbconvert_exporter": "python",
   "pygments_lexer": "ipython3",
   "version": "3.12.4"
  }
 },
 "nbformat": 4,
 "nbformat_minor": 2
}
