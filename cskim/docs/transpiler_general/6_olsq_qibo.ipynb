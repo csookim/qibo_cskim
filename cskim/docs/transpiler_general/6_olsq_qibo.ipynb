{
 "cells": [
  {
   "cell_type": "code",
   "execution_count": 1,
   "metadata": {},
   "outputs": [],
   "source": [
    "from olsq import OLSQ\n",
    "from olsq.device import qcdevice\n",
    "\n",
    "from qibo import gates\n",
    "from qibo.cskim_utils.gen_circuit import random_cx_circuit_qiskit\n",
    "from qibo.models.circuit import Circuit\n",
    "\n",
    "from qibo.cskim_utils.circuit_info import count_czs_qibo\n",
    "from qibo.cskim_utils.connectivity import star_connectivity\n",
    "from qibo.cskim_utils.connectivity import star_connectivity_cmap\n",
    "from qibo.cskim_utils.gen_circuit import gen_transpiled_circuits_qibo\n",
    "from qibo.transpiler.placer import ReverseTraversal\n",
    "from qibo.transpiler.router import Sabre\n",
    "\n",
    "from qiskit import transpile\n",
    "from qibo.cskim_utils.circuit_info import count_czs_qiskit\n"
   ]
  },
  {
   "cell_type": "markdown",
   "metadata": {},
   "source": [
    "# Compare the results of OLSQ and Qibo Router for a 5 qubit circuit"
   ]
  },
  {
   "cell_type": "code",
   "execution_count": 42,
   "metadata": {},
   "outputs": [
    {
     "name": "stdout",
     "output_type": "stream",
     "text": [
      "Random circuit Qiskit:\n",
      "               ┌───┐               ┌───┐                              ┌───┐     ┌───┐     \n",
      "q_0: ──────────┤ X ├──■─────────■──┤ X ├──■───────────────────────────┤ X ├─────┤ X ├──■──\n",
      "               └─┬─┘  │         │  └─┬─┘  │            ┌───┐          └─┬─┘     └─┬─┘  │  \n",
      "q_1: ──■─────────┼────┼────■────┼────■────┼────────────┤ X ├────────────┼─────────┼────┼──\n",
      "     ┌─┴─┐       │    │  ┌─┴─┐  │       ┌─┴─┐          └─┬─┘┌───┐┌───┐  │         │  ┌─┴─┐\n",
      "q_2: ┤ X ├──■────■────┼──┤ X ├──┼───────┤ X ├────────────┼──┤ X ├┤ X ├──┼────■────┼──┤ X ├\n",
      "     └───┘  │  ┌───┐┌─┴─┐└───┘┌─┴─┐     └───┘┌───┐┌───┐  │  └─┬─┘└─┬─┘  │  ┌─┴─┐  │  └───┘\n",
      "q_3: ───────┼──┤ X ├┤ X ├─────┤ X ├──■────■──┤ X ├┤ X ├──■────┼────■────┼──┤ X ├──■───────\n",
      "          ┌─┴─┐└─┬─┘└───┘     └───┘┌─┴─┐┌─┴─┐└─┬─┘└─┬─┘       │         │  └───┘          \n",
      "q_4: ─────┤ X ├──■─────────────────┤ X ├┤ X ├──■────■─────────■─────────■─────────────────\n",
      "          └───┘                    └───┘└───┘                                             \n",
      "Random circuit Qibo:\n",
      "q0: ───────X─o───o───X─────────o───────X─X─o─\n",
      "q1: ─o─────|─|─o─|───o───────X─|───────|─|─|─\n",
      "q2: ─X─o───o─|─X─|───────────|─X─X─X─o─|─|─X─\n",
      "q3: ───|─X───X───X─o───o─X─X─o───|─o─X─|─o───\n",
      "q4: ───X─o─────────X───X─o─o─────o─────o─────\n"
     ]
    }
   ],
   "source": [
    "# Random CX circuit from Qiskit\n",
    "random_circ_qiskit = random_cx_circuit_qiskit(5, 20)\n",
    "print(\"Random circuit Qiskit:\")\n",
    "print(random_circ_qiskit.draw(fold=-1))\n",
    "\n",
    "# Convert Qiskit circuit to Qibo circuit\n",
    "random_circ_qibo = Circuit(5)\n",
    "for g in random_circ_qiskit.data:\n",
    "    q1 = g[1][0]._index\n",
    "    q2 = g[1][1]._index\n",
    "    random_circ_qibo.add(gates.CNOT(q1, q2))\n",
    "\n",
    "print(\"Random circuit Qibo:\")\n",
    "print(random_circ_qibo.draw(line_wrap=1000))"
   ]
  },
  {
   "cell_type": "markdown",
   "metadata": {},
   "source": [
    "## Qiskit Transpilation\n",
    "\n",
    "- Additional optimizations exist in the Qiskit transpiler."
   ]
  },
  {
   "cell_type": "code",
   "execution_count": 43,
   "metadata": {},
   "outputs": [
    {
     "name": "stdout",
     "output_type": "stream",
     "text": [
      "#czs after_transpiling 26\n"
     ]
    }
   ],
   "source": [
    "cmap = star_connectivity_cmap()\n",
    "\n",
    "qc_basis = transpile(random_circ_qiskit, basis_gates=['cz', 'u'], optimization_level=3, coupling_map=cmap)\n",
    "\n",
    "print(\"#czs after_transpiling\", count_czs_qiskit(qc_basis))\n",
    "\n",
    "# print(random_circ_qiskit.draw(fold=-1))\n",
    "# print(qc_basis.draw(fold=-1))"
   ]
  },
  {
   "cell_type": "markdown",
   "metadata": {},
   "source": [
    "## Qibo Transpilation"
   ]
  },
  {
   "cell_type": "code",
   "execution_count": 49,
   "metadata": {},
   "outputs": [
    {
     "name": "stdout",
     "output_type": "stream",
     "text": [
      "#czs after_transpiling 35\n"
     ]
    }
   ],
   "source": [
    "# Placer and Router\n",
    "conn = star_connectivity()\n",
    "router_sabre = Sabre(connectivity=conn)\n",
    "placer = ReverseTraversal(connectivity=conn, routing_algorithm=router_sabre)\n",
    "\n",
    "# Transpile\n",
    "transpiled_circ = gen_transpiled_circuits_qibo(random_circ_qibo, conn, placer, router_sabre)\n",
    "print(\"#czs after_transpiling\", count_czs_qibo(transpiled_circ))"
   ]
  },
  {
   "cell_type": "markdown",
   "metadata": {},
   "source": [
    "## OLSQ Routing\n",
    "\n",
    "- OLSQ formulates the layout synthesis problem as a satisfiability modulo theories (SMT) optimization problem. \n",
    "- This problem is then passed to the Z3 SMT solver to obtain optimal solutions.\n",
    "\n"
   ]
  },
  {
   "cell_type": "code",
   "execution_count": 50,
   "metadata": {},
   "outputs": [
    {
     "name": "stdout",
     "output_type": "stream",
     "text": [
      "Trying maximal depth = 14...\n",
      "Trying maximal depth = 18...\n",
      "Trying maximal depth = 23...\n",
      "Trying maximal depth = 29...\n",
      "Trying maximal depth = 37...\n",
      "Compilation time = 0:01:22.459291.\n",
      "SWAP on physical edge (1,2) at time 15\n",
      "SWAP on physical edge (3,2) at time 28\n",
      "SWAP on physical edge (4,2) at time 5\n",
      "SWAP on physical edge (4,2) at time 21\n",
      "Gate 0: cx 1, 2 on qubits 1 and 2 at time 0\n",
      "Gate 1: cx 2, 4 on qubits 2 and 0 at time 1\n",
      "Gate 2: cx 4, 3 on qubits 0 and 2 at time 6\n",
      "Gate 3: cx 2, 0 on qubits 2 and 3 at time 2\n",
      "Gate 4: cx 0, 3 on qubits 3 and 2 at time 7\n",
      "Gate 5: cx 1, 2 on qubits 2 and 4 at time 16\n",
      "Gate 6: cx 0, 3 on qubits 3 and 2 at time 8\n",
      "Gate 7: cx 3, 4 on qubits 2 and 0 at time 9\n",
      "Gate 8: cx 1, 0 on qubits 2 and 3 at time 17\n",
      "Gate 9: cx 3, 4 on qubits 2 and 0 at time 10\n",
      "Gate 10: cx 4, 3 on qubits 0 and 2 at time 11\n",
      "Gate 11: cx 4, 3 on qubits 0 and 2 at time 12\n",
      "Gate 12: cx 3, 1 on qubits 1 and 2 at time 18\n",
      "Gate 13: cx 0, 2 on qubits 3 and 2 at time 22\n",
      "Gate 14: cx 4, 2 on qubits 0 and 2 at time 23\n",
      "Gate 15: cx 3, 2 on qubits 1 and 2 at time 24\n",
      "Gate 16: cx 2, 3 on qubits 2 and 1 at time 25\n",
      "Gate 17: cx 4, 0 on qubits 0 and 2 at time 29\n",
      "Gate 18: cx 3, 0 on qubits 1 and 2 at time 30\n",
      "Gate 19: cx 0, 2 on qubits 2 and 3 at time 31\n",
      "result circuit depth = 32.\n"
     ]
    }
   ],
   "source": [
    "from qiskit.qasm2 import dumps\n",
    "\n",
    "# Convert Qiskit circuit to QASM 2.0\n",
    "qasm_str = dumps(random_circ_qiskit)\n",
    "\n",
    "# initiate olsq with depth as objective, in normal mode\n",
    "lsqc_solver = OLSQ(\"depth\", \"normal\")\n",
    "\n",
    "# directly construct a device from properties needed by olsq\n",
    "# star connectivity\n",
    "lsqc_solver.setdevice( qcdevice(name=\"dev\", nqubits=5,\n",
    "     connection=[(0, 2), (1, 2), (3, 2), (4, 2)], swap_duration=3) )\n",
    "\n",
    "# load the qasm string to the solver\n",
    "lsqc_solver.setprogram(qasm_str)\n",
    "\n",
    "# solve the problem\n",
    "_, result, _ = lsqc_solver.solve()"
   ]
  }
 ],
 "metadata": {
  "kernelspec": {
   "display_name": "qibo-dfaCR4-c-py3.12",
   "language": "python",
   "name": "python3"
  },
  "language_info": {
   "codemirror_mode": {
    "name": "ipython",
    "version": 3
   },
   "file_extension": ".py",
   "mimetype": "text/x-python",
   "name": "python",
   "nbconvert_exporter": "python",
   "pygments_lexer": "ipython3",
   "version": "3.12.4"
  }
 },
 "nbformat": 4,
 "nbformat_minor": 2
}
